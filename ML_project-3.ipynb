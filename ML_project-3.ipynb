{
  "nbformat": 4,
  "nbformat_minor": 0,
  "metadata": {
    "colab": {
      "provenance": []
    },
    "kernelspec": {
      "name": "python3",
      "display_name": "Python 3"
    },
    "language_info": {
      "name": "python"
    }
  },
  "cells": [
    {
      "cell_type": "code",
      "execution_count": 79,
      "metadata": {
        "id": "jNfptxB_7JrW"
      },
      "outputs": [],
      "source": [
        "# Loading libraries\n",
        "\n",
        "import pandas as pd\n",
        "import numpy as np\n",
        "import seaborn as sns\n",
        "import matplotlib.pyplot as plt\n",
        "\n",
        "%matplotlib inline\n",
        "\n",
        "from IPython.display import Math, Latex, display"
      ]
    },
    {
      "cell_type": "code",
      "source": [
        "# reading the data files\n",
        "\n",
        "coad_data = pd.read_csv('/content/coad_data.csv',index_col=0)\n",
        "cov = pd.read_csv('/content/clinical_data.csv',index_col=0)\n",
        "coad_data.shape"
      ],
      "metadata": {
        "id": "Fz6wGGPk7Psd",
        "colab": {
          "base_uri": "https://localhost:8080/"
        },
        "outputId": "adc14c90-b9e4-42fb-9a85-6ac547f7fcef"
      },
      "execution_count": 80,
      "outputs": [
        {
          "output_type": "execute_result",
          "data": {
            "text/plain": [
              "(890, 508)"
            ]
          },
          "metadata": {},
          "execution_count": 80
        }
      ]
    },
    {
      "cell_type": "code",
      "source": [
        "# meta data table\n",
        "cov"
      ],
      "metadata": {
        "colab": {
          "base_uri": "https://localhost:8080/",
          "height": 419
        },
        "id": "-FzwCXHyXj_7",
        "outputId": "fd8a631e-7f0c-4129-cb11-369f3005a7c6"
      },
      "execution_count": 81,
      "outputs": [
        {
          "output_type": "execute_result",
          "data": {
            "text/plain": [
              "                                sample_type       stage  age  gender\n",
              "TCGA-AA-A00K-01A-02R-A002-07  Primary Tumor   Stage IIA   79    male\n",
              "TCGA-D5-5538-01A-01R-1653-07  Primary Tumor  Stage IIIB   60  female\n",
              "TCGA-AA-A00A-01A-01R-A002-07  Primary Tumor   Stage IIA   80    male\n",
              "TCGA-AA-A02K-01A-03R-A32Y-07  Primary Tumor    Stage IV   50    male\n",
              "TCGA-D5-6922-01A-11R-1928-07  Primary Tumor  Stage IIIA   76    male\n",
              "...                                     ...         ...  ...     ...\n",
              "TCGA-AA-A00D-01A-01R-A002-07  Primary Tumor     Stage I   70    male\n",
              "TCGA-AA-A00U-01A-01R-A002-07  Primary Tumor  Stage IIIB   50    male\n",
              "TCGA-AA-A01V-01A-23R-A083-07  Primary Tumor     Stage I   59    male\n",
              "TCGA-AA-3519-01A-02R-0821-07  Primary Tumor   Stage III   63    male\n",
              "TCGA-F4-6703-01A-11R-1839-07  Primary Tumor   Stage IIA   64    male\n",
              "\n",
              "[508 rows x 4 columns]"
            ],
            "text/html": [
              "\n",
              "  <div id=\"df-19076b8a-5408-4b69-98ce-00568b283f10\" class=\"colab-df-container\">\n",
              "    <div>\n",
              "<style scoped>\n",
              "    .dataframe tbody tr th:only-of-type {\n",
              "        vertical-align: middle;\n",
              "    }\n",
              "\n",
              "    .dataframe tbody tr th {\n",
              "        vertical-align: top;\n",
              "    }\n",
              "\n",
              "    .dataframe thead th {\n",
              "        text-align: right;\n",
              "    }\n",
              "</style>\n",
              "<table border=\"1\" class=\"dataframe\">\n",
              "  <thead>\n",
              "    <tr style=\"text-align: right;\">\n",
              "      <th></th>\n",
              "      <th>sample_type</th>\n",
              "      <th>stage</th>\n",
              "      <th>age</th>\n",
              "      <th>gender</th>\n",
              "    </tr>\n",
              "  </thead>\n",
              "  <tbody>\n",
              "    <tr>\n",
              "      <th>TCGA-AA-A00K-01A-02R-A002-07</th>\n",
              "      <td>Primary Tumor</td>\n",
              "      <td>Stage IIA</td>\n",
              "      <td>79</td>\n",
              "      <td>male</td>\n",
              "    </tr>\n",
              "    <tr>\n",
              "      <th>TCGA-D5-5538-01A-01R-1653-07</th>\n",
              "      <td>Primary Tumor</td>\n",
              "      <td>Stage IIIB</td>\n",
              "      <td>60</td>\n",
              "      <td>female</td>\n",
              "    </tr>\n",
              "    <tr>\n",
              "      <th>TCGA-AA-A00A-01A-01R-A002-07</th>\n",
              "      <td>Primary Tumor</td>\n",
              "      <td>Stage IIA</td>\n",
              "      <td>80</td>\n",
              "      <td>male</td>\n",
              "    </tr>\n",
              "    <tr>\n",
              "      <th>TCGA-AA-A02K-01A-03R-A32Y-07</th>\n",
              "      <td>Primary Tumor</td>\n",
              "      <td>Stage IV</td>\n",
              "      <td>50</td>\n",
              "      <td>male</td>\n",
              "    </tr>\n",
              "    <tr>\n",
              "      <th>TCGA-D5-6922-01A-11R-1928-07</th>\n",
              "      <td>Primary Tumor</td>\n",
              "      <td>Stage IIIA</td>\n",
              "      <td>76</td>\n",
              "      <td>male</td>\n",
              "    </tr>\n",
              "    <tr>\n",
              "      <th>...</th>\n",
              "      <td>...</td>\n",
              "      <td>...</td>\n",
              "      <td>...</td>\n",
              "      <td>...</td>\n",
              "    </tr>\n",
              "    <tr>\n",
              "      <th>TCGA-AA-A00D-01A-01R-A002-07</th>\n",
              "      <td>Primary Tumor</td>\n",
              "      <td>Stage I</td>\n",
              "      <td>70</td>\n",
              "      <td>male</td>\n",
              "    </tr>\n",
              "    <tr>\n",
              "      <th>TCGA-AA-A00U-01A-01R-A002-07</th>\n",
              "      <td>Primary Tumor</td>\n",
              "      <td>Stage IIIB</td>\n",
              "      <td>50</td>\n",
              "      <td>male</td>\n",
              "    </tr>\n",
              "    <tr>\n",
              "      <th>TCGA-AA-A01V-01A-23R-A083-07</th>\n",
              "      <td>Primary Tumor</td>\n",
              "      <td>Stage I</td>\n",
              "      <td>59</td>\n",
              "      <td>male</td>\n",
              "    </tr>\n",
              "    <tr>\n",
              "      <th>TCGA-AA-3519-01A-02R-0821-07</th>\n",
              "      <td>Primary Tumor</td>\n",
              "      <td>Stage III</td>\n",
              "      <td>63</td>\n",
              "      <td>male</td>\n",
              "    </tr>\n",
              "    <tr>\n",
              "      <th>TCGA-F4-6703-01A-11R-1839-07</th>\n",
              "      <td>Primary Tumor</td>\n",
              "      <td>Stage IIA</td>\n",
              "      <td>64</td>\n",
              "      <td>male</td>\n",
              "    </tr>\n",
              "  </tbody>\n",
              "</table>\n",
              "<p>508 rows × 4 columns</p>\n",
              "</div>\n",
              "    <div class=\"colab-df-buttons\">\n",
              "\n",
              "  <div class=\"colab-df-container\">\n",
              "    <button class=\"colab-df-convert\" onclick=\"convertToInteractive('df-19076b8a-5408-4b69-98ce-00568b283f10')\"\n",
              "            title=\"Convert this dataframe to an interactive table.\"\n",
              "            style=\"display:none;\">\n",
              "\n",
              "  <svg xmlns=\"http://www.w3.org/2000/svg\" height=\"24px\" viewBox=\"0 -960 960 960\">\n",
              "    <path d=\"M120-120v-720h720v720H120Zm60-500h600v-160H180v160Zm220 220h160v-160H400v160Zm0 220h160v-160H400v160ZM180-400h160v-160H180v160Zm440 0h160v-160H620v160ZM180-180h160v-160H180v160Zm440 0h160v-160H620v160Z\"/>\n",
              "  </svg>\n",
              "    </button>\n",
              "\n",
              "  <style>\n",
              "    .colab-df-container {\n",
              "      display:flex;\n",
              "      gap: 12px;\n",
              "    }\n",
              "\n",
              "    .colab-df-convert {\n",
              "      background-color: #E8F0FE;\n",
              "      border: none;\n",
              "      border-radius: 50%;\n",
              "      cursor: pointer;\n",
              "      display: none;\n",
              "      fill: #1967D2;\n",
              "      height: 32px;\n",
              "      padding: 0 0 0 0;\n",
              "      width: 32px;\n",
              "    }\n",
              "\n",
              "    .colab-df-convert:hover {\n",
              "      background-color: #E2EBFA;\n",
              "      box-shadow: 0px 1px 2px rgba(60, 64, 67, 0.3), 0px 1px 3px 1px rgba(60, 64, 67, 0.15);\n",
              "      fill: #174EA6;\n",
              "    }\n",
              "\n",
              "    .colab-df-buttons div {\n",
              "      margin-bottom: 4px;\n",
              "    }\n",
              "\n",
              "    [theme=dark] .colab-df-convert {\n",
              "      background-color: #3B4455;\n",
              "      fill: #D2E3FC;\n",
              "    }\n",
              "\n",
              "    [theme=dark] .colab-df-convert:hover {\n",
              "      background-color: #434B5C;\n",
              "      box-shadow: 0px 1px 3px 1px rgba(0, 0, 0, 0.15);\n",
              "      filter: drop-shadow(0px 1px 2px rgba(0, 0, 0, 0.3));\n",
              "      fill: #FFFFFF;\n",
              "    }\n",
              "  </style>\n",
              "\n",
              "    <script>\n",
              "      const buttonEl =\n",
              "        document.querySelector('#df-19076b8a-5408-4b69-98ce-00568b283f10 button.colab-df-convert');\n",
              "      buttonEl.style.display =\n",
              "        google.colab.kernel.accessAllowed ? 'block' : 'none';\n",
              "\n",
              "      async function convertToInteractive(key) {\n",
              "        const element = document.querySelector('#df-19076b8a-5408-4b69-98ce-00568b283f10');\n",
              "        const dataTable =\n",
              "          await google.colab.kernel.invokeFunction('convertToInteractive',\n",
              "                                                    [key], {});\n",
              "        if (!dataTable) return;\n",
              "\n",
              "        const docLinkHtml = 'Like what you see? Visit the ' +\n",
              "          '<a target=\"_blank\" href=https://colab.research.google.com/notebooks/data_table.ipynb>data table notebook</a>'\n",
              "          + ' to learn more about interactive tables.';\n",
              "        element.innerHTML = '';\n",
              "        dataTable['output_type'] = 'display_data';\n",
              "        await google.colab.output.renderOutput(dataTable, element);\n",
              "        const docLink = document.createElement('div');\n",
              "        docLink.innerHTML = docLinkHtml;\n",
              "        element.appendChild(docLink);\n",
              "      }\n",
              "    </script>\n",
              "  </div>\n",
              "\n",
              "\n",
              "<div id=\"df-9b61f850-6960-46fc-966a-b304166d4dcd\">\n",
              "  <button class=\"colab-df-quickchart\" onclick=\"quickchart('df-9b61f850-6960-46fc-966a-b304166d4dcd')\"\n",
              "            title=\"Suggest charts\"\n",
              "            style=\"display:none;\">\n",
              "\n",
              "<svg xmlns=\"http://www.w3.org/2000/svg\" height=\"24px\"viewBox=\"0 0 24 24\"\n",
              "     width=\"24px\">\n",
              "    <g>\n",
              "        <path d=\"M19 3H5c-1.1 0-2 .9-2 2v14c0 1.1.9 2 2 2h14c1.1 0 2-.9 2-2V5c0-1.1-.9-2-2-2zM9 17H7v-7h2v7zm4 0h-2V7h2v10zm4 0h-2v-4h2v4z\"/>\n",
              "    </g>\n",
              "</svg>\n",
              "  </button>\n",
              "\n",
              "<style>\n",
              "  .colab-df-quickchart {\n",
              "      --bg-color: #E8F0FE;\n",
              "      --fill-color: #1967D2;\n",
              "      --hover-bg-color: #E2EBFA;\n",
              "      --hover-fill-color: #174EA6;\n",
              "      --disabled-fill-color: #AAA;\n",
              "      --disabled-bg-color: #DDD;\n",
              "  }\n",
              "\n",
              "  [theme=dark] .colab-df-quickchart {\n",
              "      --bg-color: #3B4455;\n",
              "      --fill-color: #D2E3FC;\n",
              "      --hover-bg-color: #434B5C;\n",
              "      --hover-fill-color: #FFFFFF;\n",
              "      --disabled-bg-color: #3B4455;\n",
              "      --disabled-fill-color: #666;\n",
              "  }\n",
              "\n",
              "  .colab-df-quickchart {\n",
              "    background-color: var(--bg-color);\n",
              "    border: none;\n",
              "    border-radius: 50%;\n",
              "    cursor: pointer;\n",
              "    display: none;\n",
              "    fill: var(--fill-color);\n",
              "    height: 32px;\n",
              "    padding: 0;\n",
              "    width: 32px;\n",
              "  }\n",
              "\n",
              "  .colab-df-quickchart:hover {\n",
              "    background-color: var(--hover-bg-color);\n",
              "    box-shadow: 0 1px 2px rgba(60, 64, 67, 0.3), 0 1px 3px 1px rgba(60, 64, 67, 0.15);\n",
              "    fill: var(--button-hover-fill-color);\n",
              "  }\n",
              "\n",
              "  .colab-df-quickchart-complete:disabled,\n",
              "  .colab-df-quickchart-complete:disabled:hover {\n",
              "    background-color: var(--disabled-bg-color);\n",
              "    fill: var(--disabled-fill-color);\n",
              "    box-shadow: none;\n",
              "  }\n",
              "\n",
              "  .colab-df-spinner {\n",
              "    border: 2px solid var(--fill-color);\n",
              "    border-color: transparent;\n",
              "    border-bottom-color: var(--fill-color);\n",
              "    animation:\n",
              "      spin 1s steps(1) infinite;\n",
              "  }\n",
              "\n",
              "  @keyframes spin {\n",
              "    0% {\n",
              "      border-color: transparent;\n",
              "      border-bottom-color: var(--fill-color);\n",
              "      border-left-color: var(--fill-color);\n",
              "    }\n",
              "    20% {\n",
              "      border-color: transparent;\n",
              "      border-left-color: var(--fill-color);\n",
              "      border-top-color: var(--fill-color);\n",
              "    }\n",
              "    30% {\n",
              "      border-color: transparent;\n",
              "      border-left-color: var(--fill-color);\n",
              "      border-top-color: var(--fill-color);\n",
              "      border-right-color: var(--fill-color);\n",
              "    }\n",
              "    40% {\n",
              "      border-color: transparent;\n",
              "      border-right-color: var(--fill-color);\n",
              "      border-top-color: var(--fill-color);\n",
              "    }\n",
              "    60% {\n",
              "      border-color: transparent;\n",
              "      border-right-color: var(--fill-color);\n",
              "    }\n",
              "    80% {\n",
              "      border-color: transparent;\n",
              "      border-right-color: var(--fill-color);\n",
              "      border-bottom-color: var(--fill-color);\n",
              "    }\n",
              "    90% {\n",
              "      border-color: transparent;\n",
              "      border-bottom-color: var(--fill-color);\n",
              "    }\n",
              "  }\n",
              "</style>\n",
              "\n",
              "  <script>\n",
              "    async function quickchart(key) {\n",
              "      const quickchartButtonEl =\n",
              "        document.querySelector('#' + key + ' button');\n",
              "      quickchartButtonEl.disabled = true;  // To prevent multiple clicks.\n",
              "      quickchartButtonEl.classList.add('colab-df-spinner');\n",
              "      try {\n",
              "        const charts = await google.colab.kernel.invokeFunction(\n",
              "            'suggestCharts', [key], {});\n",
              "      } catch (error) {\n",
              "        console.error('Error during call to suggestCharts:', error);\n",
              "      }\n",
              "      quickchartButtonEl.classList.remove('colab-df-spinner');\n",
              "      quickchartButtonEl.classList.add('colab-df-quickchart-complete');\n",
              "    }\n",
              "    (() => {\n",
              "      let quickchartButtonEl =\n",
              "        document.querySelector('#df-9b61f850-6960-46fc-966a-b304166d4dcd button');\n",
              "      quickchartButtonEl.style.display =\n",
              "        google.colab.kernel.accessAllowed ? 'block' : 'none';\n",
              "    })();\n",
              "  </script>\n",
              "</div>\n",
              "\n",
              "  <div id=\"id_4f7e80d2-2a73-4594-b97e-c1d713225bc4\">\n",
              "    <style>\n",
              "      .colab-df-generate {\n",
              "        background-color: #E8F0FE;\n",
              "        border: none;\n",
              "        border-radius: 50%;\n",
              "        cursor: pointer;\n",
              "        display: none;\n",
              "        fill: #1967D2;\n",
              "        height: 32px;\n",
              "        padding: 0 0 0 0;\n",
              "        width: 32px;\n",
              "      }\n",
              "\n",
              "      .colab-df-generate:hover {\n",
              "        background-color: #E2EBFA;\n",
              "        box-shadow: 0px 1px 2px rgba(60, 64, 67, 0.3), 0px 1px 3px 1px rgba(60, 64, 67, 0.15);\n",
              "        fill: #174EA6;\n",
              "      }\n",
              "\n",
              "      [theme=dark] .colab-df-generate {\n",
              "        background-color: #3B4455;\n",
              "        fill: #D2E3FC;\n",
              "      }\n",
              "\n",
              "      [theme=dark] .colab-df-generate:hover {\n",
              "        background-color: #434B5C;\n",
              "        box-shadow: 0px 1px 3px 1px rgba(0, 0, 0, 0.15);\n",
              "        filter: drop-shadow(0px 1px 2px rgba(0, 0, 0, 0.3));\n",
              "        fill: #FFFFFF;\n",
              "      }\n",
              "    </style>\n",
              "    <button class=\"colab-df-generate\" onclick=\"generateWithVariable('cov')\"\n",
              "            title=\"Generate code using this dataframe.\"\n",
              "            style=\"display:none;\">\n",
              "\n",
              "  <svg xmlns=\"http://www.w3.org/2000/svg\" height=\"24px\"viewBox=\"0 0 24 24\"\n",
              "       width=\"24px\">\n",
              "    <path d=\"M7,19H8.4L18.45,9,17,7.55,7,17.6ZM5,21V16.75L18.45,3.32a2,2,0,0,1,2.83,0l1.4,1.43a1.91,1.91,0,0,1,.58,1.4,1.91,1.91,0,0,1-.58,1.4L9.25,21ZM18.45,9,17,7.55Zm-12,3A5.31,5.31,0,0,0,4.9,8.1,5.31,5.31,0,0,0,1,6.5,5.31,5.31,0,0,0,4.9,4.9,5.31,5.31,0,0,0,6.5,1,5.31,5.31,0,0,0,8.1,4.9,5.31,5.31,0,0,0,12,6.5,5.46,5.46,0,0,0,6.5,12Z\"/>\n",
              "  </svg>\n",
              "    </button>\n",
              "    <script>\n",
              "      (() => {\n",
              "      const buttonEl =\n",
              "        document.querySelector('#id_4f7e80d2-2a73-4594-b97e-c1d713225bc4 button.colab-df-generate');\n",
              "      buttonEl.style.display =\n",
              "        google.colab.kernel.accessAllowed ? 'block' : 'none';\n",
              "\n",
              "      buttonEl.onclick = () => {\n",
              "        google.colab.notebook.generateWithVariable('cov');\n",
              "      }\n",
              "      })();\n",
              "    </script>\n",
              "  </div>\n",
              "\n",
              "    </div>\n",
              "  </div>\n"
            ],
            "application/vnd.google.colaboratory.intrinsic+json": {
              "type": "dataframe",
              "variable_name": "cov",
              "summary": "{\n  \"name\": \"cov\",\n  \"rows\": 508,\n  \"fields\": [\n    {\n      \"column\": \"sample_type\",\n      \"properties\": {\n        \"dtype\": \"category\",\n        \"num_unique_values\": 2,\n        \"samples\": [\n          \"Solid Tissue Normal\",\n          \"Primary Tumor\"\n        ],\n        \"semantic_type\": \"\",\n        \"description\": \"\"\n      }\n    },\n    {\n      \"column\": \"stage\",\n      \"properties\": {\n        \"dtype\": \"category\",\n        \"num_unique_values\": 13,\n        \"samples\": [\n          \"Stage IA\",\n          \"Stage IVA\"\n        ],\n        \"semantic_type\": \"\",\n        \"description\": \"\"\n      }\n    },\n    {\n      \"column\": \"age\",\n      \"properties\": {\n        \"dtype\": \"number\",\n        \"std\": 13,\n        \"min\": 31,\n        \"max\": 90,\n        \"num_unique_values\": 58,\n        \"samples\": [\n          79,\n          67\n        ],\n        \"semantic_type\": \"\",\n        \"description\": \"\"\n      }\n    },\n    {\n      \"column\": \"gender\",\n      \"properties\": {\n        \"dtype\": \"category\",\n        \"num_unique_values\": 2,\n        \"samples\": [\n          \"female\",\n          \"male\"\n        ],\n        \"semantic_type\": \"\",\n        \"description\": \"\"\n      }\n    }\n  ]\n}"
            }
          },
          "metadata": {},
          "execution_count": 81
        }
      ]
    },
    {
      "cell_type": "markdown",
      "source": [
        "# Recommendation System"
      ],
      "metadata": {
        "id": "Ws_p36Y37ze2"
      }
    },
    {
      "cell_type": "markdown",
      "source": [
        "## Gene of interest calculation"
      ],
      "metadata": {
        "id": "ytvoHoOa73kR"
      }
    },
    {
      "cell_type": "code",
      "source": [
        "def recommendation(data):\n",
        "\n",
        "  # converting the data into a matrix\n",
        "  dataset = np.matrix(data)\n",
        "\n",
        "  # calcualting the similarity matrix\n",
        "  def similarity_matrix(x):\n",
        "\n",
        "    # considering the number of genes as the number of rows\n",
        "    genes = x.shape[0]\n",
        "\n",
        "    # creating a matrix of zeros\n",
        "    mat = np.zeros((genes,genes))\n",
        "\n",
        "    # for every row and each column calculating the similarity\n",
        "    for i in range(genes):\n",
        "      for j in range(genes):\n",
        "\n",
        "        similarity = x[i,j] / ((x[i,i] + x[j,j]) - x[i,j])\n",
        "\n",
        "        # replacing the zeros in the matrix to the similarity score\n",
        "        mat[i,j] = similarity\n",
        "\n",
        "    return mat\n",
        "\n",
        "  # calculating single single network by multiplying the data by itself\n",
        "  gene_single_network = dataset @ dataset.transpose()\n",
        "\n",
        "\n",
        "  # calculating similarity matrix using the above definition\n",
        "  sim_mat = similarity_matrix(gene_single_network)\n",
        "\n",
        "  # calculating the gene of interest by multiplying the similarity matrix with the data and sorking to rank them\n",
        "  gene_interest = sim_mat @ dataset\n",
        "  gene_ranking = np.sort(np.sum(gene_interest, axis=1))\n",
        "\n",
        "  sorted_indices = np.argsort(gene_interest, axis=0)\n",
        "\n",
        "  # Get the ranks for each row\n",
        "  ranks = np.argsort(sorted_indices, axis=0) + 1\n",
        "\n",
        "  # converting the ranks into a data frame\n",
        "  ranks = pd.DataFrame(ranks)\n",
        "\n",
        "  ranks.columns = data.columns\n",
        "  ranks.set_index(data.index, inplace = True )\n",
        "\n",
        "  # for each column in the ranks taking only the top 10 genes of interest\n",
        "  rec = {}\n",
        "  for i in range(len(ranks.columns)):\n",
        "    data_sample = pd.DataFrame(ranks.iloc[:,i])\n",
        "    top = data_sample.sort_values(by=ranks.columns[i])[:10]\n",
        "    rec[ranks.columns[i]] = top.index\n",
        "\n",
        "  return rec\n",
        "\n",
        "\n",
        "\n"
      ],
      "metadata": {
        "id": "_Q8k5d6mSxok"
      },
      "execution_count": 82,
      "outputs": []
    },
    {
      "cell_type": "code",
      "source": [
        "# getting the top genes for one sample in the coad data\n",
        "rec = recommendation(pd.DataFrame(coad_data[coad_data.columns[2]]))"
      ],
      "metadata": {
        "id": "waW5R-LqUbtJ"
      },
      "execution_count": 5,
      "outputs": []
    },
    {
      "cell_type": "code",
      "source": [
        "rec"
      ],
      "metadata": {
        "id": "wnKC6dk_Ujgt",
        "colab": {
          "base_uri": "https://localhost:8080/"
        },
        "outputId": "5cc2355b-c23a-47c4-f6eb-5f7c5221a4c2"
      },
      "execution_count": 6,
      "outputs": [
        {
          "output_type": "execute_result",
          "data": {
            "text/plain": [
              "{'TCGA-AA-A00A-01A-01R-A002-07': Index(['ENSG00000164379.7', 'ENSG00000196139.14', 'ENSG00000188910.8',\n",
              "        'ENSG00000143248.13', 'ENSG00000165092.13', 'ENSG00000116729.14',\n",
              "        'ENSG00000135929.9', 'ENSG00000185432.12', 'ENSG00000116741.8',\n",
              "        'ENSG00000174938.14'],\n",
              "       dtype='object')}"
            ]
          },
          "metadata": {},
          "execution_count": 6
        }
      ]
    },
    {
      "cell_type": "markdown",
      "source": [
        "# LOGISTIC REGRESSION"
      ],
      "metadata": {
        "id": "gSQuAco-YWqn"
      }
    },
    {
      "cell_type": "markdown",
      "source": [
        "## Pre Processing"
      ],
      "metadata": {
        "id": "nuZpOqFCaeZk"
      }
    },
    {
      "cell_type": "code",
      "source": [
        "# pre-processing the coad data by transposing it and merging with the metadata\n",
        "\n",
        "ml_data = coad_data.transpose()\n",
        "ml_data = ml_data.merge(cov,left_index=True, right_index = True)\n",
        "ml_data.head()"
      ],
      "metadata": {
        "colab": {
          "base_uri": "https://localhost:8080/",
          "height": 763
        },
        "id": "AgpRo6Mza3S8",
        "outputId": "3204a0f7-c73f-4136-aaeb-91004dbea1ee"
      },
      "execution_count": 83,
      "outputs": [
        {
          "output_type": "execute_result",
          "data": {
            "text/plain": [
              "                              ENSG00000001617.12  ENSG00000002726.21  \\\n",
              "TCGA-AA-A00K-01A-02R-A002-07                  49                 201   \n",
              "TCGA-D5-5538-01A-01R-1653-07                  50                 181   \n",
              "TCGA-AA-A00A-01A-01R-A002-07                  48                  97   \n",
              "TCGA-AA-A02K-01A-03R-A32Y-07                   9                  97   \n",
              "TCGA-D5-6922-01A-11R-1928-07                  40                 247   \n",
              "\n",
              "                              ENSG00000006015.18  ENSG00000006327.14  \\\n",
              "TCGA-AA-A00K-01A-02R-A002-07                  56                  73   \n",
              "TCGA-D5-5538-01A-01R-1653-07                  38                  71   \n",
              "TCGA-AA-A00A-01A-01R-A002-07                  67                  82   \n",
              "TCGA-AA-A02K-01A-03R-A32Y-07                  44                  87   \n",
              "TCGA-D5-6922-01A-11R-1928-07                  36                 148   \n",
              "\n",
              "                              ENSG00000006625.18  ENSG00000006704.11  \\\n",
              "TCGA-AA-A00K-01A-02R-A002-07                  87                  37   \n",
              "TCGA-D5-5538-01A-01R-1653-07                  65                  37   \n",
              "TCGA-AA-A00A-01A-01R-A002-07                  72                  35   \n",
              "TCGA-AA-A02K-01A-03R-A32Y-07                 126                  50   \n",
              "TCGA-D5-6922-01A-11R-1928-07                  92                  77   \n",
              "\n",
              "                              ENSG00000007306.15  ENSG00000008323.15  \\\n",
              "TCGA-AA-A00K-01A-02R-A002-07                 364                  41   \n",
              "TCGA-D5-5538-01A-01R-1653-07                  41                  36   \n",
              "TCGA-AA-A00A-01A-01R-A002-07                  67                  40   \n",
              "TCGA-AA-A02K-01A-03R-A32Y-07                  77                  47   \n",
              "TCGA-D5-6922-01A-11R-1928-07                 111                  87   \n",
              "\n",
              "                              ENSG00000011426.11  ENSG00000011465.18  ...  \\\n",
              "TCGA-AA-A00K-01A-02R-A002-07                  21                  12  ...   \n",
              "TCGA-D5-5538-01A-01R-1653-07                  24                  81  ...   \n",
              "TCGA-AA-A00A-01A-01R-A002-07                  17                  36  ...   \n",
              "TCGA-AA-A02K-01A-03R-A32Y-07                  36                   8  ...   \n",
              "TCGA-D5-6922-01A-11R-1928-07                  47                  80  ...   \n",
              "\n",
              "                              ENSG00000275234.1  ENSG00000276023.5  \\\n",
              "TCGA-AA-A00K-01A-02R-A002-07                 46                 17   \n",
              "TCGA-D5-5538-01A-01R-1653-07                 50                 28   \n",
              "TCGA-AA-A00A-01A-01R-A002-07                 59                 29   \n",
              "TCGA-AA-A02K-01A-03R-A32Y-07                 76                 28   \n",
              "TCGA-D5-6922-01A-11R-1928-07                 56                 24   \n",
              "\n",
              "                              ENSG00000277443.3  ENSG00000278535.5  \\\n",
              "TCGA-AA-A00K-01A-02R-A002-07                105                 17   \n",
              "TCGA-D5-5538-01A-01R-1653-07                168                  7   \n",
              "TCGA-AA-A00A-01A-01R-A002-07                 90                 16   \n",
              "TCGA-AA-A02K-01A-03R-A32Y-07                127                 24   \n",
              "TCGA-D5-6922-01A-11R-1928-07                207                 21   \n",
              "\n",
              "                              ENSG00000280206.1  ENSG00000284753.2  \\\n",
              "TCGA-AA-A00K-01A-02R-A002-07                 34                 54   \n",
              "TCGA-D5-5538-01A-01R-1653-07                 29                 25   \n",
              "TCGA-AA-A00A-01A-01R-A002-07                 21                 40   \n",
              "TCGA-AA-A02K-01A-03R-A32Y-07                 31                 22   \n",
              "TCGA-D5-6922-01A-11R-1928-07                 44                 27   \n",
              "\n",
              "                                sample_type       stage  age  gender  \n",
              "TCGA-AA-A00K-01A-02R-A002-07  Primary Tumor   Stage IIA   79    male  \n",
              "TCGA-D5-5538-01A-01R-1653-07  Primary Tumor  Stage IIIB   60  female  \n",
              "TCGA-AA-A00A-01A-01R-A002-07  Primary Tumor   Stage IIA   80    male  \n",
              "TCGA-AA-A02K-01A-03R-A32Y-07  Primary Tumor    Stage IV   50    male  \n",
              "TCGA-D5-6922-01A-11R-1928-07  Primary Tumor  Stage IIIA   76    male  \n",
              "\n",
              "[5 rows x 894 columns]"
            ],
            "text/html": [
              "\n",
              "  <div id=\"df-877af913-2c09-4c6e-9d6a-c0330a724c41\" class=\"colab-df-container\">\n",
              "    <div>\n",
              "<style scoped>\n",
              "    .dataframe tbody tr th:only-of-type {\n",
              "        vertical-align: middle;\n",
              "    }\n",
              "\n",
              "    .dataframe tbody tr th {\n",
              "        vertical-align: top;\n",
              "    }\n",
              "\n",
              "    .dataframe thead th {\n",
              "        text-align: right;\n",
              "    }\n",
              "</style>\n",
              "<table border=\"1\" class=\"dataframe\">\n",
              "  <thead>\n",
              "    <tr style=\"text-align: right;\">\n",
              "      <th></th>\n",
              "      <th>ENSG00000001617.12</th>\n",
              "      <th>ENSG00000002726.21</th>\n",
              "      <th>ENSG00000006015.18</th>\n",
              "      <th>ENSG00000006327.14</th>\n",
              "      <th>ENSG00000006625.18</th>\n",
              "      <th>ENSG00000006704.11</th>\n",
              "      <th>ENSG00000007306.15</th>\n",
              "      <th>ENSG00000008323.15</th>\n",
              "      <th>ENSG00000011426.11</th>\n",
              "      <th>ENSG00000011465.18</th>\n",
              "      <th>...</th>\n",
              "      <th>ENSG00000275234.1</th>\n",
              "      <th>ENSG00000276023.5</th>\n",
              "      <th>ENSG00000277443.3</th>\n",
              "      <th>ENSG00000278535.5</th>\n",
              "      <th>ENSG00000280206.1</th>\n",
              "      <th>ENSG00000284753.2</th>\n",
              "      <th>sample_type</th>\n",
              "      <th>stage</th>\n",
              "      <th>age</th>\n",
              "      <th>gender</th>\n",
              "    </tr>\n",
              "  </thead>\n",
              "  <tbody>\n",
              "    <tr>\n",
              "      <th>TCGA-AA-A00K-01A-02R-A002-07</th>\n",
              "      <td>49</td>\n",
              "      <td>201</td>\n",
              "      <td>56</td>\n",
              "      <td>73</td>\n",
              "      <td>87</td>\n",
              "      <td>37</td>\n",
              "      <td>364</td>\n",
              "      <td>41</td>\n",
              "      <td>21</td>\n",
              "      <td>12</td>\n",
              "      <td>...</td>\n",
              "      <td>46</td>\n",
              "      <td>17</td>\n",
              "      <td>105</td>\n",
              "      <td>17</td>\n",
              "      <td>34</td>\n",
              "      <td>54</td>\n",
              "      <td>Primary Tumor</td>\n",
              "      <td>Stage IIA</td>\n",
              "      <td>79</td>\n",
              "      <td>male</td>\n",
              "    </tr>\n",
              "    <tr>\n",
              "      <th>TCGA-D5-5538-01A-01R-1653-07</th>\n",
              "      <td>50</td>\n",
              "      <td>181</td>\n",
              "      <td>38</td>\n",
              "      <td>71</td>\n",
              "      <td>65</td>\n",
              "      <td>37</td>\n",
              "      <td>41</td>\n",
              "      <td>36</td>\n",
              "      <td>24</td>\n",
              "      <td>81</td>\n",
              "      <td>...</td>\n",
              "      <td>50</td>\n",
              "      <td>28</td>\n",
              "      <td>168</td>\n",
              "      <td>7</td>\n",
              "      <td>29</td>\n",
              "      <td>25</td>\n",
              "      <td>Primary Tumor</td>\n",
              "      <td>Stage IIIB</td>\n",
              "      <td>60</td>\n",
              "      <td>female</td>\n",
              "    </tr>\n",
              "    <tr>\n",
              "      <th>TCGA-AA-A00A-01A-01R-A002-07</th>\n",
              "      <td>48</td>\n",
              "      <td>97</td>\n",
              "      <td>67</td>\n",
              "      <td>82</td>\n",
              "      <td>72</td>\n",
              "      <td>35</td>\n",
              "      <td>67</td>\n",
              "      <td>40</td>\n",
              "      <td>17</td>\n",
              "      <td>36</td>\n",
              "      <td>...</td>\n",
              "      <td>59</td>\n",
              "      <td>29</td>\n",
              "      <td>90</td>\n",
              "      <td>16</td>\n",
              "      <td>21</td>\n",
              "      <td>40</td>\n",
              "      <td>Primary Tumor</td>\n",
              "      <td>Stage IIA</td>\n",
              "      <td>80</td>\n",
              "      <td>male</td>\n",
              "    </tr>\n",
              "    <tr>\n",
              "      <th>TCGA-AA-A02K-01A-03R-A32Y-07</th>\n",
              "      <td>9</td>\n",
              "      <td>97</td>\n",
              "      <td>44</td>\n",
              "      <td>87</td>\n",
              "      <td>126</td>\n",
              "      <td>50</td>\n",
              "      <td>77</td>\n",
              "      <td>47</td>\n",
              "      <td>36</td>\n",
              "      <td>8</td>\n",
              "      <td>...</td>\n",
              "      <td>76</td>\n",
              "      <td>28</td>\n",
              "      <td>127</td>\n",
              "      <td>24</td>\n",
              "      <td>31</td>\n",
              "      <td>22</td>\n",
              "      <td>Primary Tumor</td>\n",
              "      <td>Stage IV</td>\n",
              "      <td>50</td>\n",
              "      <td>male</td>\n",
              "    </tr>\n",
              "    <tr>\n",
              "      <th>TCGA-D5-6922-01A-11R-1928-07</th>\n",
              "      <td>40</td>\n",
              "      <td>247</td>\n",
              "      <td>36</td>\n",
              "      <td>148</td>\n",
              "      <td>92</td>\n",
              "      <td>77</td>\n",
              "      <td>111</td>\n",
              "      <td>87</td>\n",
              "      <td>47</td>\n",
              "      <td>80</td>\n",
              "      <td>...</td>\n",
              "      <td>56</td>\n",
              "      <td>24</td>\n",
              "      <td>207</td>\n",
              "      <td>21</td>\n",
              "      <td>44</td>\n",
              "      <td>27</td>\n",
              "      <td>Primary Tumor</td>\n",
              "      <td>Stage IIIA</td>\n",
              "      <td>76</td>\n",
              "      <td>male</td>\n",
              "    </tr>\n",
              "  </tbody>\n",
              "</table>\n",
              "<p>5 rows × 894 columns</p>\n",
              "</div>\n",
              "    <div class=\"colab-df-buttons\">\n",
              "\n",
              "  <div class=\"colab-df-container\">\n",
              "    <button class=\"colab-df-convert\" onclick=\"convertToInteractive('df-877af913-2c09-4c6e-9d6a-c0330a724c41')\"\n",
              "            title=\"Convert this dataframe to an interactive table.\"\n",
              "            style=\"display:none;\">\n",
              "\n",
              "  <svg xmlns=\"http://www.w3.org/2000/svg\" height=\"24px\" viewBox=\"0 -960 960 960\">\n",
              "    <path d=\"M120-120v-720h720v720H120Zm60-500h600v-160H180v160Zm220 220h160v-160H400v160Zm0 220h160v-160H400v160ZM180-400h160v-160H180v160Zm440 0h160v-160H620v160ZM180-180h160v-160H180v160Zm440 0h160v-160H620v160Z\"/>\n",
              "  </svg>\n",
              "    </button>\n",
              "\n",
              "  <style>\n",
              "    .colab-df-container {\n",
              "      display:flex;\n",
              "      gap: 12px;\n",
              "    }\n",
              "\n",
              "    .colab-df-convert {\n",
              "      background-color: #E8F0FE;\n",
              "      border: none;\n",
              "      border-radius: 50%;\n",
              "      cursor: pointer;\n",
              "      display: none;\n",
              "      fill: #1967D2;\n",
              "      height: 32px;\n",
              "      padding: 0 0 0 0;\n",
              "      width: 32px;\n",
              "    }\n",
              "\n",
              "    .colab-df-convert:hover {\n",
              "      background-color: #E2EBFA;\n",
              "      box-shadow: 0px 1px 2px rgba(60, 64, 67, 0.3), 0px 1px 3px 1px rgba(60, 64, 67, 0.15);\n",
              "      fill: #174EA6;\n",
              "    }\n",
              "\n",
              "    .colab-df-buttons div {\n",
              "      margin-bottom: 4px;\n",
              "    }\n",
              "\n",
              "    [theme=dark] .colab-df-convert {\n",
              "      background-color: #3B4455;\n",
              "      fill: #D2E3FC;\n",
              "    }\n",
              "\n",
              "    [theme=dark] .colab-df-convert:hover {\n",
              "      background-color: #434B5C;\n",
              "      box-shadow: 0px 1px 3px 1px rgba(0, 0, 0, 0.15);\n",
              "      filter: drop-shadow(0px 1px 2px rgba(0, 0, 0, 0.3));\n",
              "      fill: #FFFFFF;\n",
              "    }\n",
              "  </style>\n",
              "\n",
              "    <script>\n",
              "      const buttonEl =\n",
              "        document.querySelector('#df-877af913-2c09-4c6e-9d6a-c0330a724c41 button.colab-df-convert');\n",
              "      buttonEl.style.display =\n",
              "        google.colab.kernel.accessAllowed ? 'block' : 'none';\n",
              "\n",
              "      async function convertToInteractive(key) {\n",
              "        const element = document.querySelector('#df-877af913-2c09-4c6e-9d6a-c0330a724c41');\n",
              "        const dataTable =\n",
              "          await google.colab.kernel.invokeFunction('convertToInteractive',\n",
              "                                                    [key], {});\n",
              "        if (!dataTable) return;\n",
              "\n",
              "        const docLinkHtml = 'Like what you see? Visit the ' +\n",
              "          '<a target=\"_blank\" href=https://colab.research.google.com/notebooks/data_table.ipynb>data table notebook</a>'\n",
              "          + ' to learn more about interactive tables.';\n",
              "        element.innerHTML = '';\n",
              "        dataTable['output_type'] = 'display_data';\n",
              "        await google.colab.output.renderOutput(dataTable, element);\n",
              "        const docLink = document.createElement('div');\n",
              "        docLink.innerHTML = docLinkHtml;\n",
              "        element.appendChild(docLink);\n",
              "      }\n",
              "    </script>\n",
              "  </div>\n",
              "\n",
              "\n",
              "<div id=\"df-18c384be-450d-484a-a18b-4b7682b2f42b\">\n",
              "  <button class=\"colab-df-quickchart\" onclick=\"quickchart('df-18c384be-450d-484a-a18b-4b7682b2f42b')\"\n",
              "            title=\"Suggest charts\"\n",
              "            style=\"display:none;\">\n",
              "\n",
              "<svg xmlns=\"http://www.w3.org/2000/svg\" height=\"24px\"viewBox=\"0 0 24 24\"\n",
              "     width=\"24px\">\n",
              "    <g>\n",
              "        <path d=\"M19 3H5c-1.1 0-2 .9-2 2v14c0 1.1.9 2 2 2h14c1.1 0 2-.9 2-2V5c0-1.1-.9-2-2-2zM9 17H7v-7h2v7zm4 0h-2V7h2v10zm4 0h-2v-4h2v4z\"/>\n",
              "    </g>\n",
              "</svg>\n",
              "  </button>\n",
              "\n",
              "<style>\n",
              "  .colab-df-quickchart {\n",
              "      --bg-color: #E8F0FE;\n",
              "      --fill-color: #1967D2;\n",
              "      --hover-bg-color: #E2EBFA;\n",
              "      --hover-fill-color: #174EA6;\n",
              "      --disabled-fill-color: #AAA;\n",
              "      --disabled-bg-color: #DDD;\n",
              "  }\n",
              "\n",
              "  [theme=dark] .colab-df-quickchart {\n",
              "      --bg-color: #3B4455;\n",
              "      --fill-color: #D2E3FC;\n",
              "      --hover-bg-color: #434B5C;\n",
              "      --hover-fill-color: #FFFFFF;\n",
              "      --disabled-bg-color: #3B4455;\n",
              "      --disabled-fill-color: #666;\n",
              "  }\n",
              "\n",
              "  .colab-df-quickchart {\n",
              "    background-color: var(--bg-color);\n",
              "    border: none;\n",
              "    border-radius: 50%;\n",
              "    cursor: pointer;\n",
              "    display: none;\n",
              "    fill: var(--fill-color);\n",
              "    height: 32px;\n",
              "    padding: 0;\n",
              "    width: 32px;\n",
              "  }\n",
              "\n",
              "  .colab-df-quickchart:hover {\n",
              "    background-color: var(--hover-bg-color);\n",
              "    box-shadow: 0 1px 2px rgba(60, 64, 67, 0.3), 0 1px 3px 1px rgba(60, 64, 67, 0.15);\n",
              "    fill: var(--button-hover-fill-color);\n",
              "  }\n",
              "\n",
              "  .colab-df-quickchart-complete:disabled,\n",
              "  .colab-df-quickchart-complete:disabled:hover {\n",
              "    background-color: var(--disabled-bg-color);\n",
              "    fill: var(--disabled-fill-color);\n",
              "    box-shadow: none;\n",
              "  }\n",
              "\n",
              "  .colab-df-spinner {\n",
              "    border: 2px solid var(--fill-color);\n",
              "    border-color: transparent;\n",
              "    border-bottom-color: var(--fill-color);\n",
              "    animation:\n",
              "      spin 1s steps(1) infinite;\n",
              "  }\n",
              "\n",
              "  @keyframes spin {\n",
              "    0% {\n",
              "      border-color: transparent;\n",
              "      border-bottom-color: var(--fill-color);\n",
              "      border-left-color: var(--fill-color);\n",
              "    }\n",
              "    20% {\n",
              "      border-color: transparent;\n",
              "      border-left-color: var(--fill-color);\n",
              "      border-top-color: var(--fill-color);\n",
              "    }\n",
              "    30% {\n",
              "      border-color: transparent;\n",
              "      border-left-color: var(--fill-color);\n",
              "      border-top-color: var(--fill-color);\n",
              "      border-right-color: var(--fill-color);\n",
              "    }\n",
              "    40% {\n",
              "      border-color: transparent;\n",
              "      border-right-color: var(--fill-color);\n",
              "      border-top-color: var(--fill-color);\n",
              "    }\n",
              "    60% {\n",
              "      border-color: transparent;\n",
              "      border-right-color: var(--fill-color);\n",
              "    }\n",
              "    80% {\n",
              "      border-color: transparent;\n",
              "      border-right-color: var(--fill-color);\n",
              "      border-bottom-color: var(--fill-color);\n",
              "    }\n",
              "    90% {\n",
              "      border-color: transparent;\n",
              "      border-bottom-color: var(--fill-color);\n",
              "    }\n",
              "  }\n",
              "</style>\n",
              "\n",
              "  <script>\n",
              "    async function quickchart(key) {\n",
              "      const quickchartButtonEl =\n",
              "        document.querySelector('#' + key + ' button');\n",
              "      quickchartButtonEl.disabled = true;  // To prevent multiple clicks.\n",
              "      quickchartButtonEl.classList.add('colab-df-spinner');\n",
              "      try {\n",
              "        const charts = await google.colab.kernel.invokeFunction(\n",
              "            'suggestCharts', [key], {});\n",
              "      } catch (error) {\n",
              "        console.error('Error during call to suggestCharts:', error);\n",
              "      }\n",
              "      quickchartButtonEl.classList.remove('colab-df-spinner');\n",
              "      quickchartButtonEl.classList.add('colab-df-quickchart-complete');\n",
              "    }\n",
              "    (() => {\n",
              "      let quickchartButtonEl =\n",
              "        document.querySelector('#df-18c384be-450d-484a-a18b-4b7682b2f42b button');\n",
              "      quickchartButtonEl.style.display =\n",
              "        google.colab.kernel.accessAllowed ? 'block' : 'none';\n",
              "    })();\n",
              "  </script>\n",
              "</div>\n",
              "\n",
              "    </div>\n",
              "  </div>\n"
            ],
            "application/vnd.google.colaboratory.intrinsic+json": {
              "type": "dataframe",
              "variable_name": "ml_data"
            }
          },
          "metadata": {},
          "execution_count": 83
        }
      ]
    },
    {
      "cell_type": "code",
      "source": [
        "# converting the charector variables to numerical indexes\n",
        "\n",
        "ml_data['gender'] = np.where(ml_data['gender'] == \"male\", 1, 0)\n",
        "ml_data['sample_type'] = np.where(ml_data['sample_type'] == \"Primary Tumor\", 1, 0)\n",
        "\n",
        "stage = pd.get_dummies(ml_data['stage'], drop_first=True)\n",
        "\n",
        "ml_data.drop(['stage'], axis = 1, inplace = True)\n",
        "ml_data = ml_data.merge(stage, right_index = True, left_index=True)"
      ],
      "metadata": {
        "id": "Ho75XjyobvpW"
      },
      "execution_count": 84,
      "outputs": []
    },
    {
      "cell_type": "code",
      "source": [
        "# adding a column in the 1st position with all 1 to correspond to the zero th weight vector position\n",
        "ml_data = pd.DataFrame(np.ones(ml_data.shape[0]), columns=['index'],  index=ml_data.index).merge(ml_data, right_index=True,left_index=True)"
      ],
      "metadata": {
        "id": "rc4AJk2NRp2z"
      },
      "execution_count": 85,
      "outputs": []
    },
    {
      "cell_type": "code",
      "source": [
        "# dividing the data into X and y\n",
        "\n",
        "X = ml_data.drop(['sample_type'], axis = 1)\n",
        "y = ml_data['sample_type']"
      ],
      "metadata": {
        "id": "886WgUx3dgGu"
      },
      "execution_count": 86,
      "outputs": []
    },
    {
      "cell_type": "code",
      "source": [
        "# splitting the data to include 80% of the data in the trainig set and 20% in the test set\n",
        "from sklearn.model_selection import train_test_split\n",
        "\n",
        "X_train, X_test, y_train, y_test = train_test_split(X, y, test_size=0.2, random_state=42)"
      ],
      "metadata": {
        "id": "XF_AjeElVeqD"
      },
      "execution_count": 87,
      "outputs": []
    },
    {
      "cell_type": "code",
      "source": [
        "X_train.shape"
      ],
      "metadata": {
        "colab": {
          "base_uri": "https://localhost:8080/"
        },
        "id": "I3Lb67gUZ8_q",
        "outputId": "3a9e044f-ede6-452f-a69a-1785ab0eb39b"
      },
      "execution_count": 88,
      "outputs": [
        {
          "output_type": "execute_result",
          "data": {
            "text/plain": [
              "(406, 905)"
            ]
          },
          "metadata": {},
          "execution_count": 88
        }
      ]
    },
    {
      "cell_type": "code",
      "source": [
        "y_train.shape"
      ],
      "metadata": {
        "colab": {
          "base_uri": "https://localhost:8080/"
        },
        "id": "jeMxCVBBZ_hh",
        "outputId": "429b1b06-1590-4209-dc91-2602f5c284c0"
      },
      "execution_count": 89,
      "outputs": [
        {
          "output_type": "execute_result",
          "data": {
            "text/plain": [
              "(406,)"
            ]
          },
          "metadata": {},
          "execution_count": 89
        }
      ]
    },
    {
      "cell_type": "code",
      "source": [
        "# creating an random w vector to start the analysis with\n",
        "w = np.random.rand(X_train.shape[1],)"
      ],
      "metadata": {
        "id": "1i7S3osvgYIE"
      },
      "execution_count": 101,
      "outputs": []
    },
    {
      "cell_type": "code",
      "source": [
        "w = [i for i in w]"
      ],
      "metadata": {
        "id": "kzlc1FgxTU0Z"
      },
      "execution_count": 102,
      "outputs": []
    },
    {
      "cell_type": "code",
      "source": [],
      "metadata": {
        "colab": {
          "base_uri": "https://localhost:8080/"
        },
        "id": "tmdQ6FEep1Oi",
        "outputId": "251e888f-cb9e-49f7-d088-dac2c0f6c17e"
      },
      "execution_count": 48,
      "outputs": [
        {
          "output_type": "execute_result",
          "data": {
            "text/plain": [
              "numpy.ndarray"
            ]
          },
          "metadata": {},
          "execution_count": 48
        }
      ]
    },
    {
      "cell_type": "code",
      "source": [
        "w[:20]"
      ],
      "metadata": {
        "id": "y6ZkjwBWUM5O",
        "colab": {
          "base_uri": "https://localhost:8080/"
        },
        "outputId": "2642605f-83b2-4d1a-ffc2-93cb3c708b8a"
      },
      "execution_count": 103,
      "outputs": [
        {
          "output_type": "execute_result",
          "data": {
            "text/plain": [
              "[0.04884584572121187,\n",
              " 0.21148219385428113,\n",
              " 0.2597054102784666,\n",
              " 0.24219952579496973,\n",
              " 0.8535341091977386,\n",
              " 0.8107653988705942,\n",
              " 0.6957519303447561,\n",
              " 0.6056418104193566,\n",
              " 0.3222284608029158,\n",
              " 0.605790982915837,\n",
              " 0.9483549963286088,\n",
              " 0.050887295385229625,\n",
              " 0.6250978111167966,\n",
              " 0.6962081345754213,\n",
              " 0.046707543665483686,\n",
              " 0.33541413584957813,\n",
              " 0.7125312971679203,\n",
              " 0.27426510759062017,\n",
              " 0.5702727757086191,\n",
              " 0.8937879981350275]"
            ]
          },
          "metadata": {},
          "execution_count": 103
        }
      ]
    },
    {
      "cell_type": "markdown",
      "source": [
        "## Logistic regression model"
      ],
      "metadata": {
        "id": "wycHs-qG3gUo"
      }
    },
    {
      "cell_type": "code",
      "source": [
        "def multiplication(x,w):\n",
        "  return w @ x.transpose()\n",
        "\n",
        "def acitivation_function(x,w):\n",
        "  z = multiplication(x,w)\n",
        "  return 1/(1 + np.exp(-(z.astype(float))))\n",
        "\n",
        "def prediction(x,w, threshold):\n",
        "  return np.where(acitivation_function(x,w) > threshold,1,0)\n",
        "\n",
        "def loss(y,x, w,reg_rate):\n",
        "  return(-1 * (np.sum(y * np.log(acitivation_function(x,w)) +\n",
        "   (1-y) * np.log(acitivation_function(x,w))))+ reg_rate * np.dot(np.transpose(w),w))\n",
        "\n",
        "def optimization(x,y,w,reg_rate):\n",
        "  return(x.transpose() @ (acitivation_function(x,w) - y) + reg_rate * w)\n",
        "\n",
        "def logisticregression(x,w, threshold):\n",
        "  return prediction(x,w,threshold)"
      ],
      "metadata": {
        "id": "w5zcIQH3syqm"
      },
      "execution_count": 111,
      "outputs": []
    },
    {
      "cell_type": "code",
      "source": [
        "def logisticregression(x,w, threshold):\n",
        "\n",
        "  return prediction(x,w,threshold)\n"
      ],
      "metadata": {
        "id": "rdt56zZ_3PNZ"
      },
      "execution_count": 99,
      "outputs": []
    },
    {
      "cell_type": "code",
      "source": [
        "# Prediction over the train data\n",
        "pred = prediction(X_train,w,0.5)"
      ],
      "metadata": {
        "id": "VZqNa0xnUckR"
      },
      "execution_count": 112,
      "outputs": []
    },
    {
      "cell_type": "code",
      "source": [
        "# Predicting the test data\n",
        "pred_test = prediction(X_test, w, 0.5)"
      ],
      "metadata": {
        "id": "YiSTn-9jGJil"
      },
      "execution_count": 113,
      "outputs": []
    },
    {
      "cell_type": "code",
      "source": [
        "# viewing test data . The model is not predicting class 0 correctly\n",
        "pred_test"
      ],
      "metadata": {
        "colab": {
          "base_uri": "https://localhost:8080/"
        },
        "id": "55uevZAUGQ1t",
        "outputId": "e46540d1-5475-4b8c-e846-29396d5acc54"
      },
      "execution_count": 114,
      "outputs": [
        {
          "output_type": "execute_result",
          "data": {
            "text/plain": [
              "array([1, 1, 1, 1, 1, 1, 1, 1, 1, 1, 1, 1, 1, 1, 1, 1, 1, 1, 1, 1, 1, 1,\n",
              "       1, 1, 1, 1, 1, 1, 1, 1, 1, 1, 1, 1, 1, 1, 1, 1, 1, 1, 1, 1, 1, 1,\n",
              "       1, 1, 1, 1, 1, 1, 1, 1, 1, 1, 1, 1, 1, 1, 1, 1, 1, 1, 1, 1, 1, 1,\n",
              "       1, 1, 1, 1, 1, 1, 1, 1, 1, 1, 1, 1, 1, 1, 1, 1, 1, 1, 1, 1, 1, 1,\n",
              "       1, 1, 1, 1, 1, 1, 1, 1, 1, 1, 1, 1, 1, 1])"
            ]
          },
          "metadata": {},
          "execution_count": 114
        }
      ]
    },
    {
      "cell_type": "code",
      "source": [
        "from sklearn.metrics import confusion_matrix, classification_report"
      ],
      "metadata": {
        "id": "eLTh8X0PGkjW"
      },
      "execution_count": 115,
      "outputs": []
    },
    {
      "cell_type": "code",
      "source": [
        "confusion_matrix(y_test, pred_test)"
      ],
      "metadata": {
        "colab": {
          "base_uri": "https://localhost:8080/"
        },
        "id": "K1vgJwPiG-EK",
        "outputId": "2475506b-99b8-4161-e560-448a8da09d0b"
      },
      "execution_count": 116,
      "outputs": [
        {
          "output_type": "execute_result",
          "data": {
            "text/plain": [
              "array([[ 0,  9],\n",
              "       [ 0, 93]])"
            ]
          },
          "metadata": {},
          "execution_count": 116
        }
      ]
    },
    {
      "cell_type": "code",
      "source": [
        "print(classification_report(y_test, pred_test))"
      ],
      "metadata": {
        "colab": {
          "base_uri": "https://localhost:8080/"
        },
        "id": "M4UoErYAHcLg",
        "outputId": "5c55da42-4d9e-4d70-f5db-5d1cc2f0566e"
      },
      "execution_count": 117,
      "outputs": [
        {
          "output_type": "stream",
          "name": "stdout",
          "text": [
            "              precision    recall  f1-score   support\n",
            "\n",
            "           0       0.00      0.00      0.00         9\n",
            "           1       0.91      1.00      0.95        93\n",
            "\n",
            "    accuracy                           0.91       102\n",
            "   macro avg       0.46      0.50      0.48       102\n",
            "weighted avg       0.83      0.91      0.87       102\n",
            "\n"
          ]
        },
        {
          "output_type": "stream",
          "name": "stderr",
          "text": [
            "/usr/local/lib/python3.10/dist-packages/sklearn/metrics/_classification.py:1471: UndefinedMetricWarning: Precision and F-score are ill-defined and being set to 0.0 in labels with no predicted samples. Use `zero_division` parameter to control this behavior.\n",
            "  _warn_prf(average, modifier, msg_start, len(result))\n",
            "/usr/local/lib/python3.10/dist-packages/sklearn/metrics/_classification.py:1471: UndefinedMetricWarning: Precision and F-score are ill-defined and being set to 0.0 in labels with no predicted samples. Use `zero_division` parameter to control this behavior.\n",
            "  _warn_prf(average, modifier, msg_start, len(result))\n",
            "/usr/local/lib/python3.10/dist-packages/sklearn/metrics/_classification.py:1471: UndefinedMetricWarning: Precision and F-score are ill-defined and being set to 0.0 in labels with no predicted samples. Use `zero_division` parameter to control this behavior.\n",
            "  _warn_prf(average, modifier, msg_start, len(result))\n"
          ]
        }
      ]
    },
    {
      "cell_type": "code",
      "source": [
        "rmse = np.sum((y_test - pred_test)**2)"
      ],
      "metadata": {
        "id": "fNbye44aGWNy"
      },
      "execution_count": 118,
      "outputs": []
    },
    {
      "cell_type": "code",
      "source": [
        "rmse"
      ],
      "metadata": {
        "colab": {
          "base_uri": "https://localhost:8080/"
        },
        "id": "bfveyUKKGYpM",
        "outputId": "c5836842-39bc-4727-e6e6-5477f9b2de59"
      },
      "execution_count": 119,
      "outputs": [
        {
          "output_type": "execute_result",
          "data": {
            "text/plain": [
              "9"
            ]
          },
          "metadata": {},
          "execution_count": 119
        }
      ]
    },
    {
      "cell_type": "code",
      "source": [
        "def weight_updates(x, y, num_epochs, lr, reg_rate, patience=10):\n",
        "    # Initialize weights as zeros\n",
        "    w_vector = np.zeros(x.shape[1])\n",
        "\n",
        "    # Lists to store weights and errors during training\n",
        "    w_all = []\n",
        "    error_all = []\n",
        "\n",
        "    # Variables for early stopping\n",
        "    min_val_error = float('inf')\n",
        "    patience_count = 0\n",
        "    stop_training = False\n",
        "\n",
        "    for i in np.arange(0, num_epochs):\n",
        "        if stop_training:\n",
        "            break\n",
        "\n",
        "        # Compute the gradient\n",
        "        gd = optimization(x, y, w_vector, reg_rate)\n",
        "\n",
        "        # Update the weights\n",
        "        w_vector = w_vector - lr * gd\n",
        "\n",
        "        # Record the weights and training error\n",
        "        w_all.append(w_vector.copy())\n",
        "        train_error = loss(y, x, w_vector, reg_rate)\n",
        "        error_all.append(train_error)\n",
        "\n",
        "        # Early stopping logic (using training error as proxy)\n",
        "        if train_error < min_val_error:\n",
        "            min_val_error = train_error\n",
        "            patience_count = 0\n",
        "        else:\n",
        "            patience_count += 1\n",
        "            if patience_count >= patience:\n",
        "                stop_training = True\n",
        "\n",
        "    return w_vector"
      ],
      "metadata": {
        "id": "iDWdwJyi9vy9"
      },
      "execution_count": 224,
      "outputs": []
    },
    {
      "cell_type": "code",
      "source": [
        "# getting the new weight vector\n",
        "\n",
        "w_new = weight_updates(X_train, y_train, num_epochs=100, lr=0.01, reg_rate=0.001)"
      ],
      "metadata": {
        "id": "BCJMkA9sg5lK",
        "colab": {
          "base_uri": "https://localhost:8080/"
        },
        "outputId": "1fc5f840-054a-401b-8bb3-70d32bed6eca",
        "collapsed": true
      },
      "execution_count": 225,
      "outputs": [
        {
          "output_type": "stream",
          "name": "stderr",
          "text": [
            "/usr/local/lib/python3.10/dist-packages/pandas/core/arraylike.py:396: RuntimeWarning: overflow encountered in exp\n",
            "  result = getattr(ufunc, method)(*inputs, **kwargs)\n",
            "/usr/local/lib/python3.10/dist-packages/pandas/core/arraylike.py:396: RuntimeWarning: divide by zero encountered in log\n",
            "  result = getattr(ufunc, method)(*inputs, **kwargs)\n",
            "/usr/local/lib/python3.10/dist-packages/pandas/core/arraylike.py:396: RuntimeWarning: overflow encountered in exp\n",
            "  result = getattr(ufunc, method)(*inputs, **kwargs)\n",
            "/usr/local/lib/python3.10/dist-packages/pandas/core/arraylike.py:396: RuntimeWarning: divide by zero encountered in log\n",
            "  result = getattr(ufunc, method)(*inputs, **kwargs)\n",
            "/usr/local/lib/python3.10/dist-packages/pandas/core/arraylike.py:396: RuntimeWarning: overflow encountered in exp\n",
            "  result = getattr(ufunc, method)(*inputs, **kwargs)\n",
            "/usr/local/lib/python3.10/dist-packages/pandas/core/arraylike.py:396: RuntimeWarning: overflow encountered in exp\n",
            "  result = getattr(ufunc, method)(*inputs, **kwargs)\n",
            "/usr/local/lib/python3.10/dist-packages/pandas/core/arraylike.py:396: RuntimeWarning: divide by zero encountered in log\n",
            "  result = getattr(ufunc, method)(*inputs, **kwargs)\n",
            "/usr/local/lib/python3.10/dist-packages/pandas/core/arraylike.py:396: RuntimeWarning: overflow encountered in exp\n",
            "  result = getattr(ufunc, method)(*inputs, **kwargs)\n",
            "/usr/local/lib/python3.10/dist-packages/pandas/core/arraylike.py:396: RuntimeWarning: divide by zero encountered in log\n",
            "  result = getattr(ufunc, method)(*inputs, **kwargs)\n",
            "/usr/local/lib/python3.10/dist-packages/pandas/core/arraylike.py:396: RuntimeWarning: overflow encountered in exp\n",
            "  result = getattr(ufunc, method)(*inputs, **kwargs)\n",
            "/usr/local/lib/python3.10/dist-packages/pandas/core/arraylike.py:396: RuntimeWarning: overflow encountered in exp\n",
            "  result = getattr(ufunc, method)(*inputs, **kwargs)\n",
            "/usr/local/lib/python3.10/dist-packages/pandas/core/arraylike.py:396: RuntimeWarning: divide by zero encountered in log\n",
            "  result = getattr(ufunc, method)(*inputs, **kwargs)\n",
            "/usr/local/lib/python3.10/dist-packages/pandas/core/arraylike.py:396: RuntimeWarning: overflow encountered in exp\n",
            "  result = getattr(ufunc, method)(*inputs, **kwargs)\n",
            "/usr/local/lib/python3.10/dist-packages/pandas/core/arraylike.py:396: RuntimeWarning: divide by zero encountered in log\n",
            "  result = getattr(ufunc, method)(*inputs, **kwargs)\n",
            "/usr/local/lib/python3.10/dist-packages/pandas/core/arraylike.py:396: RuntimeWarning: overflow encountered in exp\n",
            "  result = getattr(ufunc, method)(*inputs, **kwargs)\n",
            "/usr/local/lib/python3.10/dist-packages/pandas/core/arraylike.py:396: RuntimeWarning: overflow encountered in exp\n",
            "  result = getattr(ufunc, method)(*inputs, **kwargs)\n",
            "/usr/local/lib/python3.10/dist-packages/pandas/core/arraylike.py:396: RuntimeWarning: divide by zero encountered in log\n",
            "  result = getattr(ufunc, method)(*inputs, **kwargs)\n",
            "/usr/local/lib/python3.10/dist-packages/pandas/core/arraylike.py:396: RuntimeWarning: overflow encountered in exp\n",
            "  result = getattr(ufunc, method)(*inputs, **kwargs)\n",
            "/usr/local/lib/python3.10/dist-packages/pandas/core/arraylike.py:396: RuntimeWarning: divide by zero encountered in log\n",
            "  result = getattr(ufunc, method)(*inputs, **kwargs)\n",
            "/usr/local/lib/python3.10/dist-packages/pandas/core/arraylike.py:396: RuntimeWarning: overflow encountered in exp\n",
            "  result = getattr(ufunc, method)(*inputs, **kwargs)\n",
            "/usr/local/lib/python3.10/dist-packages/pandas/core/arraylike.py:396: RuntimeWarning: overflow encountered in exp\n",
            "  result = getattr(ufunc, method)(*inputs, **kwargs)\n",
            "/usr/local/lib/python3.10/dist-packages/pandas/core/arraylike.py:396: RuntimeWarning: divide by zero encountered in log\n",
            "  result = getattr(ufunc, method)(*inputs, **kwargs)\n",
            "/usr/local/lib/python3.10/dist-packages/pandas/core/arraylike.py:396: RuntimeWarning: overflow encountered in exp\n",
            "  result = getattr(ufunc, method)(*inputs, **kwargs)\n",
            "/usr/local/lib/python3.10/dist-packages/pandas/core/arraylike.py:396: RuntimeWarning: divide by zero encountered in log\n",
            "  result = getattr(ufunc, method)(*inputs, **kwargs)\n",
            "/usr/local/lib/python3.10/dist-packages/pandas/core/arraylike.py:396: RuntimeWarning: overflow encountered in exp\n",
            "  result = getattr(ufunc, method)(*inputs, **kwargs)\n",
            "/usr/local/lib/python3.10/dist-packages/pandas/core/arraylike.py:396: RuntimeWarning: overflow encountered in exp\n",
            "  result = getattr(ufunc, method)(*inputs, **kwargs)\n",
            "/usr/local/lib/python3.10/dist-packages/pandas/core/arraylike.py:396: RuntimeWarning: divide by zero encountered in log\n",
            "  result = getattr(ufunc, method)(*inputs, **kwargs)\n",
            "/usr/local/lib/python3.10/dist-packages/pandas/core/arraylike.py:396: RuntimeWarning: overflow encountered in exp\n",
            "  result = getattr(ufunc, method)(*inputs, **kwargs)\n",
            "/usr/local/lib/python3.10/dist-packages/pandas/core/arraylike.py:396: RuntimeWarning: divide by zero encountered in log\n",
            "  result = getattr(ufunc, method)(*inputs, **kwargs)\n",
            "/usr/local/lib/python3.10/dist-packages/pandas/core/arraylike.py:396: RuntimeWarning: overflow encountered in exp\n",
            "  result = getattr(ufunc, method)(*inputs, **kwargs)\n",
            "/usr/local/lib/python3.10/dist-packages/pandas/core/arraylike.py:396: RuntimeWarning: overflow encountered in exp\n",
            "  result = getattr(ufunc, method)(*inputs, **kwargs)\n",
            "/usr/local/lib/python3.10/dist-packages/pandas/core/arraylike.py:396: RuntimeWarning: divide by zero encountered in log\n",
            "  result = getattr(ufunc, method)(*inputs, **kwargs)\n",
            "/usr/local/lib/python3.10/dist-packages/pandas/core/arraylike.py:396: RuntimeWarning: overflow encountered in exp\n",
            "  result = getattr(ufunc, method)(*inputs, **kwargs)\n",
            "/usr/local/lib/python3.10/dist-packages/pandas/core/arraylike.py:396: RuntimeWarning: divide by zero encountered in log\n",
            "  result = getattr(ufunc, method)(*inputs, **kwargs)\n",
            "/usr/local/lib/python3.10/dist-packages/pandas/core/arraylike.py:396: RuntimeWarning: overflow encountered in exp\n",
            "  result = getattr(ufunc, method)(*inputs, **kwargs)\n",
            "/usr/local/lib/python3.10/dist-packages/pandas/core/arraylike.py:396: RuntimeWarning: overflow encountered in exp\n",
            "  result = getattr(ufunc, method)(*inputs, **kwargs)\n",
            "/usr/local/lib/python3.10/dist-packages/pandas/core/arraylike.py:396: RuntimeWarning: divide by zero encountered in log\n",
            "  result = getattr(ufunc, method)(*inputs, **kwargs)\n",
            "/usr/local/lib/python3.10/dist-packages/pandas/core/arraylike.py:396: RuntimeWarning: overflow encountered in exp\n",
            "  result = getattr(ufunc, method)(*inputs, **kwargs)\n",
            "/usr/local/lib/python3.10/dist-packages/pandas/core/arraylike.py:396: RuntimeWarning: divide by zero encountered in log\n",
            "  result = getattr(ufunc, method)(*inputs, **kwargs)\n",
            "/usr/local/lib/python3.10/dist-packages/pandas/core/arraylike.py:396: RuntimeWarning: overflow encountered in exp\n",
            "  result = getattr(ufunc, method)(*inputs, **kwargs)\n",
            "/usr/local/lib/python3.10/dist-packages/pandas/core/arraylike.py:396: RuntimeWarning: overflow encountered in exp\n",
            "  result = getattr(ufunc, method)(*inputs, **kwargs)\n",
            "/usr/local/lib/python3.10/dist-packages/pandas/core/arraylike.py:396: RuntimeWarning: divide by zero encountered in log\n",
            "  result = getattr(ufunc, method)(*inputs, **kwargs)\n",
            "/usr/local/lib/python3.10/dist-packages/pandas/core/arraylike.py:396: RuntimeWarning: overflow encountered in exp\n",
            "  result = getattr(ufunc, method)(*inputs, **kwargs)\n",
            "/usr/local/lib/python3.10/dist-packages/pandas/core/arraylike.py:396: RuntimeWarning: divide by zero encountered in log\n",
            "  result = getattr(ufunc, method)(*inputs, **kwargs)\n"
          ]
        }
      ]
    },
    {
      "cell_type": "code",
      "source": [
        "w_new"
      ],
      "metadata": {
        "colab": {
          "base_uri": "https://localhost:8080/",
          "height": 453
        },
        "id": "_y2WPF96lChm",
        "outputId": "8049fbf8-7cc9-4743-812a-1eb4b7cf5459"
      },
      "execution_count": 226,
      "outputs": [
        {
          "output_type": "execute_result",
          "data": {
            "text/plain": [
              "index                   2.309772\n",
              "ENSG00000001617.12    113.270713\n",
              "ENSG00000002726.21    -444.99152\n",
              "ENSG00000006015.18    160.741669\n",
              "ENSG00000006327.14    457.632873\n",
              "                         ...    \n",
              "Stage IIIB              0.524958\n",
              "Stage IIIC              0.344973\n",
              "Stage IV                0.119983\n",
              "Stage IVA               0.024996\n",
              "Stage IVB               0.004999\n",
              "Length: 905, dtype: object"
            ],
            "text/html": [
              "<div>\n",
              "<style scoped>\n",
              "    .dataframe tbody tr th:only-of-type {\n",
              "        vertical-align: middle;\n",
              "    }\n",
              "\n",
              "    .dataframe tbody tr th {\n",
              "        vertical-align: top;\n",
              "    }\n",
              "\n",
              "    .dataframe thead th {\n",
              "        text-align: right;\n",
              "    }\n",
              "</style>\n",
              "<table border=\"1\" class=\"dataframe\">\n",
              "  <thead>\n",
              "    <tr style=\"text-align: right;\">\n",
              "      <th></th>\n",
              "      <th>0</th>\n",
              "    </tr>\n",
              "  </thead>\n",
              "  <tbody>\n",
              "    <tr>\n",
              "      <th>index</th>\n",
              "      <td>2.309772</td>\n",
              "    </tr>\n",
              "    <tr>\n",
              "      <th>ENSG00000001617.12</th>\n",
              "      <td>113.270713</td>\n",
              "    </tr>\n",
              "    <tr>\n",
              "      <th>ENSG00000002726.21</th>\n",
              "      <td>-444.99152</td>\n",
              "    </tr>\n",
              "    <tr>\n",
              "      <th>ENSG00000006015.18</th>\n",
              "      <td>160.741669</td>\n",
              "    </tr>\n",
              "    <tr>\n",
              "      <th>ENSG00000006327.14</th>\n",
              "      <td>457.632873</td>\n",
              "    </tr>\n",
              "    <tr>\n",
              "      <th>...</th>\n",
              "      <td>...</td>\n",
              "    </tr>\n",
              "    <tr>\n",
              "      <th>Stage IIIB</th>\n",
              "      <td>0.524958</td>\n",
              "    </tr>\n",
              "    <tr>\n",
              "      <th>Stage IIIC</th>\n",
              "      <td>0.344973</td>\n",
              "    </tr>\n",
              "    <tr>\n",
              "      <th>Stage IV</th>\n",
              "      <td>0.119983</td>\n",
              "    </tr>\n",
              "    <tr>\n",
              "      <th>Stage IVA</th>\n",
              "      <td>0.024996</td>\n",
              "    </tr>\n",
              "    <tr>\n",
              "      <th>Stage IVB</th>\n",
              "      <td>0.004999</td>\n",
              "    </tr>\n",
              "  </tbody>\n",
              "</table>\n",
              "<p>905 rows × 1 columns</p>\n",
              "</div><br><label><b>dtype:</b> object</label>"
            ]
          },
          "metadata": {},
          "execution_count": 226
        }
      ]
    },
    {
      "cell_type": "code",
      "source": [
        "# predicting test scores based on the new weight vector\n",
        "\n",
        "pred_update = prediction(X_test,w_new,0.5)"
      ],
      "metadata": {
        "colab": {
          "base_uri": "https://localhost:8080/"
        },
        "id": "2Kv8CdaBlVRA",
        "outputId": "b5b633cb-f25d-4fb6-c454-2d54ca841627"
      },
      "execution_count": 227,
      "outputs": [
        {
          "output_type": "stream",
          "name": "stderr",
          "text": [
            "/usr/local/lib/python3.10/dist-packages/pandas/core/arraylike.py:396: RuntimeWarning: overflow encountered in exp\n",
            "  result = getattr(ufunc, method)(*inputs, **kwargs)\n"
          ]
        }
      ]
    },
    {
      "cell_type": "code",
      "source": [
        "# calculating the evaluation metrics for the test data using the new weight vector\n",
        "\n",
        "rmse = np.sum(y_test - pred_update)**2"
      ],
      "metadata": {
        "id": "eAoqDikulgST"
      },
      "execution_count": 228,
      "outputs": []
    },
    {
      "cell_type": "code",
      "source": [
        "rmse"
      ],
      "metadata": {
        "colab": {
          "base_uri": "https://localhost:8080/"
        },
        "id": "0ZTrH2GBl0Me",
        "outputId": "e8ae1de4-d86e-43a3-98f1-571bae3a8452"
      },
      "execution_count": 229,
      "outputs": [
        {
          "output_type": "execute_result",
          "data": {
            "text/plain": [
              "1"
            ]
          },
          "metadata": {},
          "execution_count": 229
        }
      ]
    },
    {
      "cell_type": "code",
      "source": [
        "confusion_matrix(y_test, pred_update)"
      ],
      "metadata": {
        "colab": {
          "base_uri": "https://localhost:8080/"
        },
        "id": "zHVPBinzafbQ",
        "outputId": "635148f1-e74d-413a-954b-16eeae2e3902"
      },
      "execution_count": 230,
      "outputs": [
        {
          "output_type": "execute_result",
          "data": {
            "text/plain": [
              "array([[ 9,  0],\n",
              "       [ 1, 92]])"
            ]
          },
          "metadata": {},
          "execution_count": 230
        }
      ]
    },
    {
      "cell_type": "code",
      "source": [
        "print(classification_report(y_test, pred_update))"
      ],
      "metadata": {
        "colab": {
          "base_uri": "https://localhost:8080/"
        },
        "id": "_EVixrVhah2p",
        "outputId": "c647bf81-3aa0-42a4-d879-b045ff455dd2"
      },
      "execution_count": 231,
      "outputs": [
        {
          "output_type": "stream",
          "name": "stdout",
          "text": [
            "              precision    recall  f1-score   support\n",
            "\n",
            "           0       0.90      1.00      0.95         9\n",
            "           1       1.00      0.99      0.99        93\n",
            "\n",
            "    accuracy                           0.99       102\n",
            "   macro avg       0.95      0.99      0.97       102\n",
            "weighted avg       0.99      0.99      0.99       102\n",
            "\n"
          ]
        }
      ]
    }
  ]
}