{
  "nbformat": 4,
  "nbformat_minor": 0,
  "metadata": {
    "colab": {
      "provenance": []
    },
    "kernelspec": {
      "name": "python3",
      "display_name": "Python 3"
    },
    "language_info": {
      "name": "python"
    }
  },
  "cells": [
    {
      "cell_type": "code",
      "execution_count": 1,
      "metadata": {
        "id": "jNfptxB_7JrW"
      },
      "outputs": [],
      "source": [
        "# Loading libraries\n",
        "\n",
        "import pandas as pd\n",
        "import numpy as np\n",
        "import seaborn as sns\n",
        "import matplotlib.pyplot as plt\n",
        "\n",
        "%matplotlib inline\n",
        "\n",
        "from IPython.display import Math, Latex, display"
      ]
    },
    {
      "cell_type": "code",
      "source": [
        "# reading the data files\n",
        "\n",
        "coad_data = pd.read_csv('/content/coad_data.csv',index_col=0)\n",
        "cov = pd.read_csv('/content/clinical_data.csv',index_col=0)\n",
        "coad_data.shape"
      ],
      "metadata": {
        "id": "Fz6wGGPk7Psd",
        "colab": {
          "base_uri": "https://localhost:8080/"
        },
        "outputId": "6a3472e3-13e9-44b3-e562-36e4aef8863c"
      },
      "execution_count": 2,
      "outputs": [
        {
          "output_type": "execute_result",
          "data": {
            "text/plain": [
              "(890, 508)"
            ]
          },
          "metadata": {},
          "execution_count": 2
        }
      ]
    },
    {
      "cell_type": "code",
      "source": [
        "# meta data table\n",
        "cov"
      ],
      "metadata": {
        "colab": {
          "base_uri": "https://localhost:8080/",
          "height": 419
        },
        "id": "-FzwCXHyXj_7",
        "outputId": "c32015c6-056f-4b9d-b1b8-d66e381e9ace"
      },
      "execution_count": null,
      "outputs": [
        {
          "output_type": "execute_result",
          "data": {
            "text/plain": [
              "                                sample_type       stage  age  gender\n",
              "TCGA-AA-A00K-01A-02R-A002-07  Primary Tumor   Stage IIA   79    male\n",
              "TCGA-D5-5538-01A-01R-1653-07  Primary Tumor  Stage IIIB   60  female\n",
              "TCGA-AA-A00A-01A-01R-A002-07  Primary Tumor   Stage IIA   80    male\n",
              "TCGA-AA-A02K-01A-03R-A32Y-07  Primary Tumor    Stage IV   50    male\n",
              "TCGA-D5-6922-01A-11R-1928-07  Primary Tumor  Stage IIIA   76    male\n",
              "...                                     ...         ...  ...     ...\n",
              "TCGA-AA-A00D-01A-01R-A002-07  Primary Tumor     Stage I   70    male\n",
              "TCGA-AA-A00U-01A-01R-A002-07  Primary Tumor  Stage IIIB   50    male\n",
              "TCGA-AA-A01V-01A-23R-A083-07  Primary Tumor     Stage I   59    male\n",
              "TCGA-AA-3519-01A-02R-0821-07  Primary Tumor   Stage III   63    male\n",
              "TCGA-F4-6703-01A-11R-1839-07  Primary Tumor   Stage IIA   64    male\n",
              "\n",
              "[508 rows x 4 columns]"
            ],
            "text/html": [
              "\n",
              "  <div id=\"df-93228b23-e167-409f-bb1d-89d8ca84708f\" class=\"colab-df-container\">\n",
              "    <div>\n",
              "<style scoped>\n",
              "    .dataframe tbody tr th:only-of-type {\n",
              "        vertical-align: middle;\n",
              "    }\n",
              "\n",
              "    .dataframe tbody tr th {\n",
              "        vertical-align: top;\n",
              "    }\n",
              "\n",
              "    .dataframe thead th {\n",
              "        text-align: right;\n",
              "    }\n",
              "</style>\n",
              "<table border=\"1\" class=\"dataframe\">\n",
              "  <thead>\n",
              "    <tr style=\"text-align: right;\">\n",
              "      <th></th>\n",
              "      <th>sample_type</th>\n",
              "      <th>stage</th>\n",
              "      <th>age</th>\n",
              "      <th>gender</th>\n",
              "    </tr>\n",
              "  </thead>\n",
              "  <tbody>\n",
              "    <tr>\n",
              "      <th>TCGA-AA-A00K-01A-02R-A002-07</th>\n",
              "      <td>Primary Tumor</td>\n",
              "      <td>Stage IIA</td>\n",
              "      <td>79</td>\n",
              "      <td>male</td>\n",
              "    </tr>\n",
              "    <tr>\n",
              "      <th>TCGA-D5-5538-01A-01R-1653-07</th>\n",
              "      <td>Primary Tumor</td>\n",
              "      <td>Stage IIIB</td>\n",
              "      <td>60</td>\n",
              "      <td>female</td>\n",
              "    </tr>\n",
              "    <tr>\n",
              "      <th>TCGA-AA-A00A-01A-01R-A002-07</th>\n",
              "      <td>Primary Tumor</td>\n",
              "      <td>Stage IIA</td>\n",
              "      <td>80</td>\n",
              "      <td>male</td>\n",
              "    </tr>\n",
              "    <tr>\n",
              "      <th>TCGA-AA-A02K-01A-03R-A32Y-07</th>\n",
              "      <td>Primary Tumor</td>\n",
              "      <td>Stage IV</td>\n",
              "      <td>50</td>\n",
              "      <td>male</td>\n",
              "    </tr>\n",
              "    <tr>\n",
              "      <th>TCGA-D5-6922-01A-11R-1928-07</th>\n",
              "      <td>Primary Tumor</td>\n",
              "      <td>Stage IIIA</td>\n",
              "      <td>76</td>\n",
              "      <td>male</td>\n",
              "    </tr>\n",
              "    <tr>\n",
              "      <th>...</th>\n",
              "      <td>...</td>\n",
              "      <td>...</td>\n",
              "      <td>...</td>\n",
              "      <td>...</td>\n",
              "    </tr>\n",
              "    <tr>\n",
              "      <th>TCGA-AA-A00D-01A-01R-A002-07</th>\n",
              "      <td>Primary Tumor</td>\n",
              "      <td>Stage I</td>\n",
              "      <td>70</td>\n",
              "      <td>male</td>\n",
              "    </tr>\n",
              "    <tr>\n",
              "      <th>TCGA-AA-A00U-01A-01R-A002-07</th>\n",
              "      <td>Primary Tumor</td>\n",
              "      <td>Stage IIIB</td>\n",
              "      <td>50</td>\n",
              "      <td>male</td>\n",
              "    </tr>\n",
              "    <tr>\n",
              "      <th>TCGA-AA-A01V-01A-23R-A083-07</th>\n",
              "      <td>Primary Tumor</td>\n",
              "      <td>Stage I</td>\n",
              "      <td>59</td>\n",
              "      <td>male</td>\n",
              "    </tr>\n",
              "    <tr>\n",
              "      <th>TCGA-AA-3519-01A-02R-0821-07</th>\n",
              "      <td>Primary Tumor</td>\n",
              "      <td>Stage III</td>\n",
              "      <td>63</td>\n",
              "      <td>male</td>\n",
              "    </tr>\n",
              "    <tr>\n",
              "      <th>TCGA-F4-6703-01A-11R-1839-07</th>\n",
              "      <td>Primary Tumor</td>\n",
              "      <td>Stage IIA</td>\n",
              "      <td>64</td>\n",
              "      <td>male</td>\n",
              "    </tr>\n",
              "  </tbody>\n",
              "</table>\n",
              "<p>508 rows × 4 columns</p>\n",
              "</div>\n",
              "    <div class=\"colab-df-buttons\">\n",
              "\n",
              "  <div class=\"colab-df-container\">\n",
              "    <button class=\"colab-df-convert\" onclick=\"convertToInteractive('df-93228b23-e167-409f-bb1d-89d8ca84708f')\"\n",
              "            title=\"Convert this dataframe to an interactive table.\"\n",
              "            style=\"display:none;\">\n",
              "\n",
              "  <svg xmlns=\"http://www.w3.org/2000/svg\" height=\"24px\" viewBox=\"0 -960 960 960\">\n",
              "    <path d=\"M120-120v-720h720v720H120Zm60-500h600v-160H180v160Zm220 220h160v-160H400v160Zm0 220h160v-160H400v160ZM180-400h160v-160H180v160Zm440 0h160v-160H620v160ZM180-180h160v-160H180v160Zm440 0h160v-160H620v160Z\"/>\n",
              "  </svg>\n",
              "    </button>\n",
              "\n",
              "  <style>\n",
              "    .colab-df-container {\n",
              "      display:flex;\n",
              "      gap: 12px;\n",
              "    }\n",
              "\n",
              "    .colab-df-convert {\n",
              "      background-color: #E8F0FE;\n",
              "      border: none;\n",
              "      border-radius: 50%;\n",
              "      cursor: pointer;\n",
              "      display: none;\n",
              "      fill: #1967D2;\n",
              "      height: 32px;\n",
              "      padding: 0 0 0 0;\n",
              "      width: 32px;\n",
              "    }\n",
              "\n",
              "    .colab-df-convert:hover {\n",
              "      background-color: #E2EBFA;\n",
              "      box-shadow: 0px 1px 2px rgba(60, 64, 67, 0.3), 0px 1px 3px 1px rgba(60, 64, 67, 0.15);\n",
              "      fill: #174EA6;\n",
              "    }\n",
              "\n",
              "    .colab-df-buttons div {\n",
              "      margin-bottom: 4px;\n",
              "    }\n",
              "\n",
              "    [theme=dark] .colab-df-convert {\n",
              "      background-color: #3B4455;\n",
              "      fill: #D2E3FC;\n",
              "    }\n",
              "\n",
              "    [theme=dark] .colab-df-convert:hover {\n",
              "      background-color: #434B5C;\n",
              "      box-shadow: 0px 1px 3px 1px rgba(0, 0, 0, 0.15);\n",
              "      filter: drop-shadow(0px 1px 2px rgba(0, 0, 0, 0.3));\n",
              "      fill: #FFFFFF;\n",
              "    }\n",
              "  </style>\n",
              "\n",
              "    <script>\n",
              "      const buttonEl =\n",
              "        document.querySelector('#df-93228b23-e167-409f-bb1d-89d8ca84708f button.colab-df-convert');\n",
              "      buttonEl.style.display =\n",
              "        google.colab.kernel.accessAllowed ? 'block' : 'none';\n",
              "\n",
              "      async function convertToInteractive(key) {\n",
              "        const element = document.querySelector('#df-93228b23-e167-409f-bb1d-89d8ca84708f');\n",
              "        const dataTable =\n",
              "          await google.colab.kernel.invokeFunction('convertToInteractive',\n",
              "                                                    [key], {});\n",
              "        if (!dataTable) return;\n",
              "\n",
              "        const docLinkHtml = 'Like what you see? Visit the ' +\n",
              "          '<a target=\"_blank\" href=https://colab.research.google.com/notebooks/data_table.ipynb>data table notebook</a>'\n",
              "          + ' to learn more about interactive tables.';\n",
              "        element.innerHTML = '';\n",
              "        dataTable['output_type'] = 'display_data';\n",
              "        await google.colab.output.renderOutput(dataTable, element);\n",
              "        const docLink = document.createElement('div');\n",
              "        docLink.innerHTML = docLinkHtml;\n",
              "        element.appendChild(docLink);\n",
              "      }\n",
              "    </script>\n",
              "  </div>\n",
              "\n",
              "\n",
              "<div id=\"df-de881085-3096-4865-8ae2-f6f81b642487\">\n",
              "  <button class=\"colab-df-quickchart\" onclick=\"quickchart('df-de881085-3096-4865-8ae2-f6f81b642487')\"\n",
              "            title=\"Suggest charts\"\n",
              "            style=\"display:none;\">\n",
              "\n",
              "<svg xmlns=\"http://www.w3.org/2000/svg\" height=\"24px\"viewBox=\"0 0 24 24\"\n",
              "     width=\"24px\">\n",
              "    <g>\n",
              "        <path d=\"M19 3H5c-1.1 0-2 .9-2 2v14c0 1.1.9 2 2 2h14c1.1 0 2-.9 2-2V5c0-1.1-.9-2-2-2zM9 17H7v-7h2v7zm4 0h-2V7h2v10zm4 0h-2v-4h2v4z\"/>\n",
              "    </g>\n",
              "</svg>\n",
              "  </button>\n",
              "\n",
              "<style>\n",
              "  .colab-df-quickchart {\n",
              "      --bg-color: #E8F0FE;\n",
              "      --fill-color: #1967D2;\n",
              "      --hover-bg-color: #E2EBFA;\n",
              "      --hover-fill-color: #174EA6;\n",
              "      --disabled-fill-color: #AAA;\n",
              "      --disabled-bg-color: #DDD;\n",
              "  }\n",
              "\n",
              "  [theme=dark] .colab-df-quickchart {\n",
              "      --bg-color: #3B4455;\n",
              "      --fill-color: #D2E3FC;\n",
              "      --hover-bg-color: #434B5C;\n",
              "      --hover-fill-color: #FFFFFF;\n",
              "      --disabled-bg-color: #3B4455;\n",
              "      --disabled-fill-color: #666;\n",
              "  }\n",
              "\n",
              "  .colab-df-quickchart {\n",
              "    background-color: var(--bg-color);\n",
              "    border: none;\n",
              "    border-radius: 50%;\n",
              "    cursor: pointer;\n",
              "    display: none;\n",
              "    fill: var(--fill-color);\n",
              "    height: 32px;\n",
              "    padding: 0;\n",
              "    width: 32px;\n",
              "  }\n",
              "\n",
              "  .colab-df-quickchart:hover {\n",
              "    background-color: var(--hover-bg-color);\n",
              "    box-shadow: 0 1px 2px rgba(60, 64, 67, 0.3), 0 1px 3px 1px rgba(60, 64, 67, 0.15);\n",
              "    fill: var(--button-hover-fill-color);\n",
              "  }\n",
              "\n",
              "  .colab-df-quickchart-complete:disabled,\n",
              "  .colab-df-quickchart-complete:disabled:hover {\n",
              "    background-color: var(--disabled-bg-color);\n",
              "    fill: var(--disabled-fill-color);\n",
              "    box-shadow: none;\n",
              "  }\n",
              "\n",
              "  .colab-df-spinner {\n",
              "    border: 2px solid var(--fill-color);\n",
              "    border-color: transparent;\n",
              "    border-bottom-color: var(--fill-color);\n",
              "    animation:\n",
              "      spin 1s steps(1) infinite;\n",
              "  }\n",
              "\n",
              "  @keyframes spin {\n",
              "    0% {\n",
              "      border-color: transparent;\n",
              "      border-bottom-color: var(--fill-color);\n",
              "      border-left-color: var(--fill-color);\n",
              "    }\n",
              "    20% {\n",
              "      border-color: transparent;\n",
              "      border-left-color: var(--fill-color);\n",
              "      border-top-color: var(--fill-color);\n",
              "    }\n",
              "    30% {\n",
              "      border-color: transparent;\n",
              "      border-left-color: var(--fill-color);\n",
              "      border-top-color: var(--fill-color);\n",
              "      border-right-color: var(--fill-color);\n",
              "    }\n",
              "    40% {\n",
              "      border-color: transparent;\n",
              "      border-right-color: var(--fill-color);\n",
              "      border-top-color: var(--fill-color);\n",
              "    }\n",
              "    60% {\n",
              "      border-color: transparent;\n",
              "      border-right-color: var(--fill-color);\n",
              "    }\n",
              "    80% {\n",
              "      border-color: transparent;\n",
              "      border-right-color: var(--fill-color);\n",
              "      border-bottom-color: var(--fill-color);\n",
              "    }\n",
              "    90% {\n",
              "      border-color: transparent;\n",
              "      border-bottom-color: var(--fill-color);\n",
              "    }\n",
              "  }\n",
              "</style>\n",
              "\n",
              "  <script>\n",
              "    async function quickchart(key) {\n",
              "      const quickchartButtonEl =\n",
              "        document.querySelector('#' + key + ' button');\n",
              "      quickchartButtonEl.disabled = true;  // To prevent multiple clicks.\n",
              "      quickchartButtonEl.classList.add('colab-df-spinner');\n",
              "      try {\n",
              "        const charts = await google.colab.kernel.invokeFunction(\n",
              "            'suggestCharts', [key], {});\n",
              "      } catch (error) {\n",
              "        console.error('Error during call to suggestCharts:', error);\n",
              "      }\n",
              "      quickchartButtonEl.classList.remove('colab-df-spinner');\n",
              "      quickchartButtonEl.classList.add('colab-df-quickchart-complete');\n",
              "    }\n",
              "    (() => {\n",
              "      let quickchartButtonEl =\n",
              "        document.querySelector('#df-de881085-3096-4865-8ae2-f6f81b642487 button');\n",
              "      quickchartButtonEl.style.display =\n",
              "        google.colab.kernel.accessAllowed ? 'block' : 'none';\n",
              "    })();\n",
              "  </script>\n",
              "</div>\n",
              "    </div>\n",
              "  </div>\n"
            ]
          },
          "metadata": {},
          "execution_count": 3
        }
      ]
    },
    {
      "cell_type": "markdown",
      "source": [
        "# Recommendation System"
      ],
      "metadata": {
        "id": "Ws_p36Y37ze2"
      }
    },
    {
      "cell_type": "markdown",
      "source": [
        "## Gene of interest calculation"
      ],
      "metadata": {
        "id": "ytvoHoOa73kR"
      }
    },
    {
      "cell_type": "code",
      "source": [
        "def recommendation(data):\n",
        "\n",
        "  # converting the data into a matrix\n",
        "  dataset = np.matrix(data)\n",
        "\n",
        "  # calcualting the similarity matrix\n",
        "  def similarity_matrix(x):\n",
        "\n",
        "    # considering the number of genes as the number of rows\n",
        "    genes = x.shape[0]\n",
        "\n",
        "    # creating a matrix of zeros\n",
        "    mat = np.zeros((genes,genes))\n",
        "\n",
        "    # for every row and each column calculating the similarity\n",
        "    for i in range(genes):\n",
        "      for j in range(genes):\n",
        "\n",
        "        similarity = x[i,j] / ((x[i,i] + x[j,j]) - x[i,j])\n",
        "\n",
        "        # replacing the zeros in the matrix to the similarity score\n",
        "        mat[i,j] = similarity\n",
        "\n",
        "    return mat\n",
        "\n",
        "  # calculating single single network by multiplying the data by itself\n",
        "  gene_single_network = dataset @ dataset.transpose()\n",
        "\n",
        "\n",
        "  # calculating similarity matrix using the above definition\n",
        "  sim_mat = similarity_matrix(gene_single_network)\n",
        "\n",
        "  # calculating the gene of interest by multiplying the similarity matrix with the data and sorking to rank them\n",
        "  gene_interest = sim_mat @ dataset\n",
        "  gene_ranking = np.sort(np.sum(gene_interest, axis=1))\n",
        "\n",
        "  sorted_indices = np.argsort(gene_interest, axis=0)\n",
        "\n",
        "  # Get the ranks for each row\n",
        "  ranks = np.argsort(sorted_indices, axis=0) + 1\n",
        "\n",
        "  # converting the ranks into a data frame\n",
        "  ranks = pd.DataFrame(ranks)\n",
        "\n",
        "  ranks.columns = data.columns\n",
        "  ranks.set_index(data.index, inplace = True )\n",
        "\n",
        "  # for each column in the ranks taking only the top 10 genes of interest\n",
        "  rec = {}\n",
        "  for i in range(len(ranks.columns)):\n",
        "    data_sample = pd.DataFrame(ranks.iloc[:,i])\n",
        "    top = data_sample.sort_values(by=ranks.columns[i])[:10]\n",
        "    rec[ranks.columns[i]] = top.index\n",
        "\n",
        "  return rec\n",
        "\n",
        "\n",
        "\n"
      ],
      "metadata": {
        "id": "_Q8k5d6mSxok"
      },
      "execution_count": null,
      "outputs": []
    },
    {
      "cell_type": "code",
      "source": [
        "# getting the top genes for one sample in the coad data\n",
        "rec = recommendation(pd.DataFrame(coad_data[coad_data.columns[2]]))"
      ],
      "metadata": {
        "id": "waW5R-LqUbtJ"
      },
      "execution_count": null,
      "outputs": []
    },
    {
      "cell_type": "code",
      "source": [
        "rec"
      ],
      "metadata": {
        "id": "wnKC6dk_Ujgt",
        "colab": {
          "base_uri": "https://localhost:8080/"
        },
        "outputId": "1ce60d03-0281-4561-b238-1f5d0bc7511a"
      },
      "execution_count": null,
      "outputs": [
        {
          "output_type": "execute_result",
          "data": {
            "text/plain": [
              "{'TCGA-D5-5538-01A-01R-1653-07': Index(['ENSG00000166126.11', 'ENSG00000156381.9', 'ENSG00000149809.16',\n",
              "        'ENSG00000107833.10', 'ENSG00000138031.14', 'ENSG00000161888.11',\n",
              "        'ENSG00000012171.20', 'ENSG00000135540.11', 'ENSG00000143248.13',\n",
              "        'ENSG00000125144.14'],\n",
              "       dtype='object')}"
            ]
          },
          "metadata": {},
          "execution_count": 23
        }
      ]
    },
    {
      "cell_type": "markdown",
      "source": [
        "# LOGISTIC REGRESSION"
      ],
      "metadata": {
        "id": "gSQuAco-YWqn"
      }
    },
    {
      "cell_type": "markdown",
      "source": [
        "## Pre Processing"
      ],
      "metadata": {
        "id": "nuZpOqFCaeZk"
      }
    },
    {
      "cell_type": "code",
      "source": [
        "# pre-processing the coad data by transposing it and merging with the metadata\n",
        "\n",
        "ml_data = coad_data.transpose()\n",
        "ml_data = ml_data.merge(cov,left_index=True, right_index = True)\n",
        "ml_data.head()"
      ],
      "metadata": {
        "colab": {
          "base_uri": "https://localhost:8080/",
          "height": 763
        },
        "id": "AgpRo6Mza3S8",
        "outputId": "e86617f4-972a-4e21-ba28-971b68c1a257"
      },
      "execution_count": 4,
      "outputs": [
        {
          "output_type": "execute_result",
          "data": {
            "text/plain": [
              "                              ENSG00000001617.12  ENSG00000002726.21  \\\n",
              "TCGA-AA-A00K-01A-02R-A002-07                  49                 201   \n",
              "TCGA-D5-5538-01A-01R-1653-07                  50                 181   \n",
              "TCGA-AA-A00A-01A-01R-A002-07                  48                  97   \n",
              "TCGA-AA-A02K-01A-03R-A32Y-07                   9                  97   \n",
              "TCGA-D5-6922-01A-11R-1928-07                  40                 247   \n",
              "\n",
              "                              ENSG00000006015.18  ENSG00000006327.14  \\\n",
              "TCGA-AA-A00K-01A-02R-A002-07                  56                  73   \n",
              "TCGA-D5-5538-01A-01R-1653-07                  38                  71   \n",
              "TCGA-AA-A00A-01A-01R-A002-07                  67                  82   \n",
              "TCGA-AA-A02K-01A-03R-A32Y-07                  44                  87   \n",
              "TCGA-D5-6922-01A-11R-1928-07                  36                 148   \n",
              "\n",
              "                              ENSG00000006625.18  ENSG00000006704.11  \\\n",
              "TCGA-AA-A00K-01A-02R-A002-07                  87                  37   \n",
              "TCGA-D5-5538-01A-01R-1653-07                  65                  37   \n",
              "TCGA-AA-A00A-01A-01R-A002-07                  72                  35   \n",
              "TCGA-AA-A02K-01A-03R-A32Y-07                 126                  50   \n",
              "TCGA-D5-6922-01A-11R-1928-07                  92                  77   \n",
              "\n",
              "                              ENSG00000007306.15  ENSG00000008323.15  \\\n",
              "TCGA-AA-A00K-01A-02R-A002-07                 364                  41   \n",
              "TCGA-D5-5538-01A-01R-1653-07                  41                  36   \n",
              "TCGA-AA-A00A-01A-01R-A002-07                  67                  40   \n",
              "TCGA-AA-A02K-01A-03R-A32Y-07                  77                  47   \n",
              "TCGA-D5-6922-01A-11R-1928-07                 111                  87   \n",
              "\n",
              "                              ENSG00000011426.11  ENSG00000011465.18  ...  \\\n",
              "TCGA-AA-A00K-01A-02R-A002-07                  21                  12  ...   \n",
              "TCGA-D5-5538-01A-01R-1653-07                  24                  81  ...   \n",
              "TCGA-AA-A00A-01A-01R-A002-07                  17                  36  ...   \n",
              "TCGA-AA-A02K-01A-03R-A32Y-07                  36                   8  ...   \n",
              "TCGA-D5-6922-01A-11R-1928-07                  47                  80  ...   \n",
              "\n",
              "                              ENSG00000275234.1  ENSG00000276023.5  \\\n",
              "TCGA-AA-A00K-01A-02R-A002-07                 46                 17   \n",
              "TCGA-D5-5538-01A-01R-1653-07                 50                 28   \n",
              "TCGA-AA-A00A-01A-01R-A002-07                 59                 29   \n",
              "TCGA-AA-A02K-01A-03R-A32Y-07                 76                 28   \n",
              "TCGA-D5-6922-01A-11R-1928-07                 56                 24   \n",
              "\n",
              "                              ENSG00000277443.3  ENSG00000278535.5  \\\n",
              "TCGA-AA-A00K-01A-02R-A002-07                105                 17   \n",
              "TCGA-D5-5538-01A-01R-1653-07                168                  7   \n",
              "TCGA-AA-A00A-01A-01R-A002-07                 90                 16   \n",
              "TCGA-AA-A02K-01A-03R-A32Y-07                127                 24   \n",
              "TCGA-D5-6922-01A-11R-1928-07                207                 21   \n",
              "\n",
              "                              ENSG00000280206.1  ENSG00000284753.2  \\\n",
              "TCGA-AA-A00K-01A-02R-A002-07                 34                 54   \n",
              "TCGA-D5-5538-01A-01R-1653-07                 29                 25   \n",
              "TCGA-AA-A00A-01A-01R-A002-07                 21                 40   \n",
              "TCGA-AA-A02K-01A-03R-A32Y-07                 31                 22   \n",
              "TCGA-D5-6922-01A-11R-1928-07                 44                 27   \n",
              "\n",
              "                                sample_type       stage  age  gender  \n",
              "TCGA-AA-A00K-01A-02R-A002-07  Primary Tumor   Stage IIA   79    male  \n",
              "TCGA-D5-5538-01A-01R-1653-07  Primary Tumor  Stage IIIB   60  female  \n",
              "TCGA-AA-A00A-01A-01R-A002-07  Primary Tumor   Stage IIA   80    male  \n",
              "TCGA-AA-A02K-01A-03R-A32Y-07  Primary Tumor    Stage IV   50    male  \n",
              "TCGA-D5-6922-01A-11R-1928-07  Primary Tumor  Stage IIIA   76    male  \n",
              "\n",
              "[5 rows x 894 columns]"
            ],
            "text/html": [
              "\n",
              "  <div id=\"df-05ae4260-bd85-458a-9def-39012f09bb2a\" class=\"colab-df-container\">\n",
              "    <div>\n",
              "<style scoped>\n",
              "    .dataframe tbody tr th:only-of-type {\n",
              "        vertical-align: middle;\n",
              "    }\n",
              "\n",
              "    .dataframe tbody tr th {\n",
              "        vertical-align: top;\n",
              "    }\n",
              "\n",
              "    .dataframe thead th {\n",
              "        text-align: right;\n",
              "    }\n",
              "</style>\n",
              "<table border=\"1\" class=\"dataframe\">\n",
              "  <thead>\n",
              "    <tr style=\"text-align: right;\">\n",
              "      <th></th>\n",
              "      <th>ENSG00000001617.12</th>\n",
              "      <th>ENSG00000002726.21</th>\n",
              "      <th>ENSG00000006015.18</th>\n",
              "      <th>ENSG00000006327.14</th>\n",
              "      <th>ENSG00000006625.18</th>\n",
              "      <th>ENSG00000006704.11</th>\n",
              "      <th>ENSG00000007306.15</th>\n",
              "      <th>ENSG00000008323.15</th>\n",
              "      <th>ENSG00000011426.11</th>\n",
              "      <th>ENSG00000011465.18</th>\n",
              "      <th>...</th>\n",
              "      <th>ENSG00000275234.1</th>\n",
              "      <th>ENSG00000276023.5</th>\n",
              "      <th>ENSG00000277443.3</th>\n",
              "      <th>ENSG00000278535.5</th>\n",
              "      <th>ENSG00000280206.1</th>\n",
              "      <th>ENSG00000284753.2</th>\n",
              "      <th>sample_type</th>\n",
              "      <th>stage</th>\n",
              "      <th>age</th>\n",
              "      <th>gender</th>\n",
              "    </tr>\n",
              "  </thead>\n",
              "  <tbody>\n",
              "    <tr>\n",
              "      <th>TCGA-AA-A00K-01A-02R-A002-07</th>\n",
              "      <td>49</td>\n",
              "      <td>201</td>\n",
              "      <td>56</td>\n",
              "      <td>73</td>\n",
              "      <td>87</td>\n",
              "      <td>37</td>\n",
              "      <td>364</td>\n",
              "      <td>41</td>\n",
              "      <td>21</td>\n",
              "      <td>12</td>\n",
              "      <td>...</td>\n",
              "      <td>46</td>\n",
              "      <td>17</td>\n",
              "      <td>105</td>\n",
              "      <td>17</td>\n",
              "      <td>34</td>\n",
              "      <td>54</td>\n",
              "      <td>Primary Tumor</td>\n",
              "      <td>Stage IIA</td>\n",
              "      <td>79</td>\n",
              "      <td>male</td>\n",
              "    </tr>\n",
              "    <tr>\n",
              "      <th>TCGA-D5-5538-01A-01R-1653-07</th>\n",
              "      <td>50</td>\n",
              "      <td>181</td>\n",
              "      <td>38</td>\n",
              "      <td>71</td>\n",
              "      <td>65</td>\n",
              "      <td>37</td>\n",
              "      <td>41</td>\n",
              "      <td>36</td>\n",
              "      <td>24</td>\n",
              "      <td>81</td>\n",
              "      <td>...</td>\n",
              "      <td>50</td>\n",
              "      <td>28</td>\n",
              "      <td>168</td>\n",
              "      <td>7</td>\n",
              "      <td>29</td>\n",
              "      <td>25</td>\n",
              "      <td>Primary Tumor</td>\n",
              "      <td>Stage IIIB</td>\n",
              "      <td>60</td>\n",
              "      <td>female</td>\n",
              "    </tr>\n",
              "    <tr>\n",
              "      <th>TCGA-AA-A00A-01A-01R-A002-07</th>\n",
              "      <td>48</td>\n",
              "      <td>97</td>\n",
              "      <td>67</td>\n",
              "      <td>82</td>\n",
              "      <td>72</td>\n",
              "      <td>35</td>\n",
              "      <td>67</td>\n",
              "      <td>40</td>\n",
              "      <td>17</td>\n",
              "      <td>36</td>\n",
              "      <td>...</td>\n",
              "      <td>59</td>\n",
              "      <td>29</td>\n",
              "      <td>90</td>\n",
              "      <td>16</td>\n",
              "      <td>21</td>\n",
              "      <td>40</td>\n",
              "      <td>Primary Tumor</td>\n",
              "      <td>Stage IIA</td>\n",
              "      <td>80</td>\n",
              "      <td>male</td>\n",
              "    </tr>\n",
              "    <tr>\n",
              "      <th>TCGA-AA-A02K-01A-03R-A32Y-07</th>\n",
              "      <td>9</td>\n",
              "      <td>97</td>\n",
              "      <td>44</td>\n",
              "      <td>87</td>\n",
              "      <td>126</td>\n",
              "      <td>50</td>\n",
              "      <td>77</td>\n",
              "      <td>47</td>\n",
              "      <td>36</td>\n",
              "      <td>8</td>\n",
              "      <td>...</td>\n",
              "      <td>76</td>\n",
              "      <td>28</td>\n",
              "      <td>127</td>\n",
              "      <td>24</td>\n",
              "      <td>31</td>\n",
              "      <td>22</td>\n",
              "      <td>Primary Tumor</td>\n",
              "      <td>Stage IV</td>\n",
              "      <td>50</td>\n",
              "      <td>male</td>\n",
              "    </tr>\n",
              "    <tr>\n",
              "      <th>TCGA-D5-6922-01A-11R-1928-07</th>\n",
              "      <td>40</td>\n",
              "      <td>247</td>\n",
              "      <td>36</td>\n",
              "      <td>148</td>\n",
              "      <td>92</td>\n",
              "      <td>77</td>\n",
              "      <td>111</td>\n",
              "      <td>87</td>\n",
              "      <td>47</td>\n",
              "      <td>80</td>\n",
              "      <td>...</td>\n",
              "      <td>56</td>\n",
              "      <td>24</td>\n",
              "      <td>207</td>\n",
              "      <td>21</td>\n",
              "      <td>44</td>\n",
              "      <td>27</td>\n",
              "      <td>Primary Tumor</td>\n",
              "      <td>Stage IIIA</td>\n",
              "      <td>76</td>\n",
              "      <td>male</td>\n",
              "    </tr>\n",
              "  </tbody>\n",
              "</table>\n",
              "<p>5 rows × 894 columns</p>\n",
              "</div>\n",
              "    <div class=\"colab-df-buttons\">\n",
              "\n",
              "  <div class=\"colab-df-container\">\n",
              "    <button class=\"colab-df-convert\" onclick=\"convertToInteractive('df-05ae4260-bd85-458a-9def-39012f09bb2a')\"\n",
              "            title=\"Convert this dataframe to an interactive table.\"\n",
              "            style=\"display:none;\">\n",
              "\n",
              "  <svg xmlns=\"http://www.w3.org/2000/svg\" height=\"24px\" viewBox=\"0 -960 960 960\">\n",
              "    <path d=\"M120-120v-720h720v720H120Zm60-500h600v-160H180v160Zm220 220h160v-160H400v160Zm0 220h160v-160H400v160ZM180-400h160v-160H180v160Zm440 0h160v-160H620v160ZM180-180h160v-160H180v160Zm440 0h160v-160H620v160Z\"/>\n",
              "  </svg>\n",
              "    </button>\n",
              "\n",
              "  <style>\n",
              "    .colab-df-container {\n",
              "      display:flex;\n",
              "      gap: 12px;\n",
              "    }\n",
              "\n",
              "    .colab-df-convert {\n",
              "      background-color: #E8F0FE;\n",
              "      border: none;\n",
              "      border-radius: 50%;\n",
              "      cursor: pointer;\n",
              "      display: none;\n",
              "      fill: #1967D2;\n",
              "      height: 32px;\n",
              "      padding: 0 0 0 0;\n",
              "      width: 32px;\n",
              "    }\n",
              "\n",
              "    .colab-df-convert:hover {\n",
              "      background-color: #E2EBFA;\n",
              "      box-shadow: 0px 1px 2px rgba(60, 64, 67, 0.3), 0px 1px 3px 1px rgba(60, 64, 67, 0.15);\n",
              "      fill: #174EA6;\n",
              "    }\n",
              "\n",
              "    .colab-df-buttons div {\n",
              "      margin-bottom: 4px;\n",
              "    }\n",
              "\n",
              "    [theme=dark] .colab-df-convert {\n",
              "      background-color: #3B4455;\n",
              "      fill: #D2E3FC;\n",
              "    }\n",
              "\n",
              "    [theme=dark] .colab-df-convert:hover {\n",
              "      background-color: #434B5C;\n",
              "      box-shadow: 0px 1px 3px 1px rgba(0, 0, 0, 0.15);\n",
              "      filter: drop-shadow(0px 1px 2px rgba(0, 0, 0, 0.3));\n",
              "      fill: #FFFFFF;\n",
              "    }\n",
              "  </style>\n",
              "\n",
              "    <script>\n",
              "      const buttonEl =\n",
              "        document.querySelector('#df-05ae4260-bd85-458a-9def-39012f09bb2a button.colab-df-convert');\n",
              "      buttonEl.style.display =\n",
              "        google.colab.kernel.accessAllowed ? 'block' : 'none';\n",
              "\n",
              "      async function convertToInteractive(key) {\n",
              "        const element = document.querySelector('#df-05ae4260-bd85-458a-9def-39012f09bb2a');\n",
              "        const dataTable =\n",
              "          await google.colab.kernel.invokeFunction('convertToInteractive',\n",
              "                                                    [key], {});\n",
              "        if (!dataTable) return;\n",
              "\n",
              "        const docLinkHtml = 'Like what you see? Visit the ' +\n",
              "          '<a target=\"_blank\" href=https://colab.research.google.com/notebooks/data_table.ipynb>data table notebook</a>'\n",
              "          + ' to learn more about interactive tables.';\n",
              "        element.innerHTML = '';\n",
              "        dataTable['output_type'] = 'display_data';\n",
              "        await google.colab.output.renderOutput(dataTable, element);\n",
              "        const docLink = document.createElement('div');\n",
              "        docLink.innerHTML = docLinkHtml;\n",
              "        element.appendChild(docLink);\n",
              "      }\n",
              "    </script>\n",
              "  </div>\n",
              "\n",
              "\n",
              "<div id=\"df-a4cf04ad-73ad-4365-9e6b-47dc14eee47c\">\n",
              "  <button class=\"colab-df-quickchart\" onclick=\"quickchart('df-a4cf04ad-73ad-4365-9e6b-47dc14eee47c')\"\n",
              "            title=\"Suggest charts\"\n",
              "            style=\"display:none;\">\n",
              "\n",
              "<svg xmlns=\"http://www.w3.org/2000/svg\" height=\"24px\"viewBox=\"0 0 24 24\"\n",
              "     width=\"24px\">\n",
              "    <g>\n",
              "        <path d=\"M19 3H5c-1.1 0-2 .9-2 2v14c0 1.1.9 2 2 2h14c1.1 0 2-.9 2-2V5c0-1.1-.9-2-2-2zM9 17H7v-7h2v7zm4 0h-2V7h2v10zm4 0h-2v-4h2v4z\"/>\n",
              "    </g>\n",
              "</svg>\n",
              "  </button>\n",
              "\n",
              "<style>\n",
              "  .colab-df-quickchart {\n",
              "      --bg-color: #E8F0FE;\n",
              "      --fill-color: #1967D2;\n",
              "      --hover-bg-color: #E2EBFA;\n",
              "      --hover-fill-color: #174EA6;\n",
              "      --disabled-fill-color: #AAA;\n",
              "      --disabled-bg-color: #DDD;\n",
              "  }\n",
              "\n",
              "  [theme=dark] .colab-df-quickchart {\n",
              "      --bg-color: #3B4455;\n",
              "      --fill-color: #D2E3FC;\n",
              "      --hover-bg-color: #434B5C;\n",
              "      --hover-fill-color: #FFFFFF;\n",
              "      --disabled-bg-color: #3B4455;\n",
              "      --disabled-fill-color: #666;\n",
              "  }\n",
              "\n",
              "  .colab-df-quickchart {\n",
              "    background-color: var(--bg-color);\n",
              "    border: none;\n",
              "    border-radius: 50%;\n",
              "    cursor: pointer;\n",
              "    display: none;\n",
              "    fill: var(--fill-color);\n",
              "    height: 32px;\n",
              "    padding: 0;\n",
              "    width: 32px;\n",
              "  }\n",
              "\n",
              "  .colab-df-quickchart:hover {\n",
              "    background-color: var(--hover-bg-color);\n",
              "    box-shadow: 0 1px 2px rgba(60, 64, 67, 0.3), 0 1px 3px 1px rgba(60, 64, 67, 0.15);\n",
              "    fill: var(--button-hover-fill-color);\n",
              "  }\n",
              "\n",
              "  .colab-df-quickchart-complete:disabled,\n",
              "  .colab-df-quickchart-complete:disabled:hover {\n",
              "    background-color: var(--disabled-bg-color);\n",
              "    fill: var(--disabled-fill-color);\n",
              "    box-shadow: none;\n",
              "  }\n",
              "\n",
              "  .colab-df-spinner {\n",
              "    border: 2px solid var(--fill-color);\n",
              "    border-color: transparent;\n",
              "    border-bottom-color: var(--fill-color);\n",
              "    animation:\n",
              "      spin 1s steps(1) infinite;\n",
              "  }\n",
              "\n",
              "  @keyframes spin {\n",
              "    0% {\n",
              "      border-color: transparent;\n",
              "      border-bottom-color: var(--fill-color);\n",
              "      border-left-color: var(--fill-color);\n",
              "    }\n",
              "    20% {\n",
              "      border-color: transparent;\n",
              "      border-left-color: var(--fill-color);\n",
              "      border-top-color: var(--fill-color);\n",
              "    }\n",
              "    30% {\n",
              "      border-color: transparent;\n",
              "      border-left-color: var(--fill-color);\n",
              "      border-top-color: var(--fill-color);\n",
              "      border-right-color: var(--fill-color);\n",
              "    }\n",
              "    40% {\n",
              "      border-color: transparent;\n",
              "      border-right-color: var(--fill-color);\n",
              "      border-top-color: var(--fill-color);\n",
              "    }\n",
              "    60% {\n",
              "      border-color: transparent;\n",
              "      border-right-color: var(--fill-color);\n",
              "    }\n",
              "    80% {\n",
              "      border-color: transparent;\n",
              "      border-right-color: var(--fill-color);\n",
              "      border-bottom-color: var(--fill-color);\n",
              "    }\n",
              "    90% {\n",
              "      border-color: transparent;\n",
              "      border-bottom-color: var(--fill-color);\n",
              "    }\n",
              "  }\n",
              "</style>\n",
              "\n",
              "  <script>\n",
              "    async function quickchart(key) {\n",
              "      const quickchartButtonEl =\n",
              "        document.querySelector('#' + key + ' button');\n",
              "      quickchartButtonEl.disabled = true;  // To prevent multiple clicks.\n",
              "      quickchartButtonEl.classList.add('colab-df-spinner');\n",
              "      try {\n",
              "        const charts = await google.colab.kernel.invokeFunction(\n",
              "            'suggestCharts', [key], {});\n",
              "      } catch (error) {\n",
              "        console.error('Error during call to suggestCharts:', error);\n",
              "      }\n",
              "      quickchartButtonEl.classList.remove('colab-df-spinner');\n",
              "      quickchartButtonEl.classList.add('colab-df-quickchart-complete');\n",
              "    }\n",
              "    (() => {\n",
              "      let quickchartButtonEl =\n",
              "        document.querySelector('#df-a4cf04ad-73ad-4365-9e6b-47dc14eee47c button');\n",
              "      quickchartButtonEl.style.display =\n",
              "        google.colab.kernel.accessAllowed ? 'block' : 'none';\n",
              "    })();\n",
              "  </script>\n",
              "</div>\n",
              "    </div>\n",
              "  </div>\n"
            ]
          },
          "metadata": {},
          "execution_count": 4
        }
      ]
    },
    {
      "cell_type": "code",
      "source": [
        "# converting the charector variables to numerical indexes\n",
        "\n",
        "ml_data['gender'] = np.where(ml_data['gender'] == \"male\", 1, 0)\n",
        "ml_data['sample_type'] = np.where(ml_data['sample_type'] == \"Primary Tumor\", 1, 0)\n",
        "\n",
        "stage = pd.get_dummies(ml_data['stage'], drop_first=True)\n",
        "\n",
        "ml_data.drop(['stage'], axis = 1, inplace = True)\n",
        "ml_data = ml_data.merge(stage, right_index = True, left_index=True)"
      ],
      "metadata": {
        "id": "Ho75XjyobvpW"
      },
      "execution_count": 5,
      "outputs": []
    },
    {
      "cell_type": "code",
      "source": [
        "# adding a column in the 1st position with all 1 to correspond to the zero th weight vector position\n",
        "ml_data = pd.DataFrame(np.ones(ml_data.shape[0]), columns=['index'],  index=ml_data.index).merge(ml_data, right_index=True,left_index=True)"
      ],
      "metadata": {
        "id": "rc4AJk2NRp2z"
      },
      "execution_count": 6,
      "outputs": []
    },
    {
      "cell_type": "code",
      "source": [
        "# dividing the data into X and y\n",
        "\n",
        "X = ml_data.drop(['sample_type'], axis = 1)\n",
        "y = ml_data['sample_type']"
      ],
      "metadata": {
        "id": "886WgUx3dgGu"
      },
      "execution_count": 7,
      "outputs": []
    },
    {
      "cell_type": "code",
      "source": [
        "# splitting the data to include 80% of the data in the trainig set and 20% in the test set\n",
        "from sklearn.model_selection import train_test_split\n",
        "\n",
        "X_train, X_test, y_train, y_test = train_test_split(X, y, test_size=0.2, random_state=42)"
      ],
      "metadata": {
        "id": "XF_AjeElVeqD"
      },
      "execution_count": 8,
      "outputs": []
    },
    {
      "cell_type": "code",
      "source": [
        "X_train.shape"
      ],
      "metadata": {
        "colab": {
          "base_uri": "https://localhost:8080/"
        },
        "id": "I3Lb67gUZ8_q",
        "outputId": "25d30133-d2d7-45c2-ef0c-bb8cb391da88"
      },
      "execution_count": 9,
      "outputs": [
        {
          "output_type": "execute_result",
          "data": {
            "text/plain": [
              "(406, 905)"
            ]
          },
          "metadata": {},
          "execution_count": 9
        }
      ]
    },
    {
      "cell_type": "code",
      "source": [
        "y_train.shape"
      ],
      "metadata": {
        "colab": {
          "base_uri": "https://localhost:8080/"
        },
        "id": "jeMxCVBBZ_hh",
        "outputId": "9b99add4-1650-438d-f661-f53478909358"
      },
      "execution_count": 10,
      "outputs": [
        {
          "output_type": "execute_result",
          "data": {
            "text/plain": [
              "(406,)"
            ]
          },
          "metadata": {},
          "execution_count": 10
        }
      ]
    },
    {
      "cell_type": "code",
      "source": [
        "# creating an random w vector to start the analysis with\n",
        "w = np.random.rand(X_train.shape[1],)"
      ],
      "metadata": {
        "id": "1i7S3osvgYIE"
      },
      "execution_count": 11,
      "outputs": []
    },
    {
      "cell_type": "code",
      "source": [
        "w = [i for i in w]"
      ],
      "metadata": {
        "id": "kzlc1FgxTU0Z"
      },
      "execution_count": 12,
      "outputs": []
    },
    {
      "cell_type": "code",
      "source": [
        "w[:20]"
      ],
      "metadata": {
        "id": "y6ZkjwBWUM5O",
        "colab": {
          "base_uri": "https://localhost:8080/"
        },
        "outputId": "a212f1e3-d178-4b07-9905-9e6b2d9b8bd8"
      },
      "execution_count": null,
      "outputs": [
        {
          "output_type": "execute_result",
          "data": {
            "text/plain": [
              "[0.38327700977653023,\n",
              " 0.6749171378972578,\n",
              " 0.27571357855495093,\n",
              " 0.11920551932191825,\n",
              " 0.9917943044632134,\n",
              " 0.5279909054690984,\n",
              " 0.2865083475206597,\n",
              " 0.5726369746408285,\n",
              " 0.2718323293657151,\n",
              " 0.6687075232905306,\n",
              " 0.31313297790428296,\n",
              " 0.9610235504245612,\n",
              " 0.04269239474855102,\n",
              " 0.7216700621827405,\n",
              " 0.585831962541151,\n",
              " 0.38466243597548255,\n",
              " 0.6216082473827589,\n",
              " 0.3872593853843257,\n",
              " 0.18368693395165236,\n",
              " 0.28834543905270926]"
            ]
          },
          "metadata": {},
          "execution_count": 79
        }
      ]
    },
    {
      "cell_type": "markdown",
      "source": [
        "## Logistic regression model"
      ],
      "metadata": {
        "id": "wycHs-qG3gUo"
      }
    },
    {
      "cell_type": "code",
      "source": [
        "\n",
        "def multiplication(x,w):\n",
        "  return w @ x.transpose()\n",
        "\n",
        "def acitivation_function(x,w):\n",
        "  return 1/(1 + np.exp(-(multiplication(x,w))))\n",
        "\n",
        "def prediction(x,w, threshold):\n",
        "  return np.where(acitivation_function(x,w) > threshold,1,0)\n",
        "\n",
        "def loss(y,x, w,reg_rate):\n",
        "  return(-1 * (np.sum(y * np.log(acitivation_function(x,w)) +\n",
        "   (1-y) * np.log(acitivation_function(x,w))))+ reg_rate * np.dot(np.transpose(w),w))\n",
        "\n",
        "def optimization(x,y,w,reg_rate):\n",
        "  return(x.transpose() @ (acitivation_function(x,w) - y) + reg_rate * w)\n"
      ],
      "metadata": {
        "id": "p9cmW4jhXC7n"
      },
      "execution_count": 13,
      "outputs": []
    },
    {
      "cell_type": "code",
      "source": [
        "def logisticregression(x,w, threshold):\n",
        "\n",
        "  return prediction(x,w,threshold)\n"
      ],
      "metadata": {
        "id": "rdt56zZ_3PNZ"
      },
      "execution_count": 14,
      "outputs": []
    },
    {
      "cell_type": "code",
      "source": [
        "# Prediction over the train data\n",
        "pred = prediction(X_train,w,0.5)"
      ],
      "metadata": {
        "id": "VZqNa0xnUckR"
      },
      "execution_count": 15,
      "outputs": []
    },
    {
      "cell_type": "code",
      "source": [
        "# Predicting the test data\n",
        "pred_test = prediction(X_test, w, 0.5)"
      ],
      "metadata": {
        "id": "YiSTn-9jGJil"
      },
      "execution_count": 16,
      "outputs": []
    },
    {
      "cell_type": "code",
      "source": [
        "# viewing test data . The model is not predicting class 0 correctly\n",
        "pred_test"
      ],
      "metadata": {
        "colab": {
          "base_uri": "https://localhost:8080/"
        },
        "id": "55uevZAUGQ1t",
        "outputId": "8324a4dd-727f-481a-afa9-222fe56a0440"
      },
      "execution_count": 17,
      "outputs": [
        {
          "output_type": "execute_result",
          "data": {
            "text/plain": [
              "array([1, 1, 1, 1, 1, 1, 1, 1, 1, 1, 1, 1, 1, 1, 1, 1, 1, 1, 1, 1, 1, 1,\n",
              "       1, 1, 1, 1, 1, 1, 1, 1, 1, 1, 1, 1, 1, 1, 1, 1, 1, 1, 1, 1, 1, 1,\n",
              "       1, 1, 1, 1, 1, 1, 1, 1, 1, 1, 1, 1, 1, 1, 1, 1, 1, 1, 1, 1, 1, 1,\n",
              "       1, 1, 1, 1, 1, 1, 1, 1, 1, 1, 1, 1, 1, 1, 1, 1, 1, 1, 1, 1, 1, 1,\n",
              "       1, 1, 1, 1, 1, 1, 1, 1, 1, 1, 1, 1, 1, 1])"
            ]
          },
          "metadata": {},
          "execution_count": 17
        }
      ]
    },
    {
      "cell_type": "code",
      "source": [
        "from sklearn.metrics import confusion_matrix, classification_report"
      ],
      "metadata": {
        "id": "eLTh8X0PGkjW"
      },
      "execution_count": 18,
      "outputs": []
    },
    {
      "cell_type": "code",
      "source": [
        "confusion_matrix(y_test, pred_test)"
      ],
      "metadata": {
        "colab": {
          "base_uri": "https://localhost:8080/"
        },
        "id": "K1vgJwPiG-EK",
        "outputId": "7c75fb7e-6fd1-4e2f-97fc-30c32d630b11"
      },
      "execution_count": 19,
      "outputs": [
        {
          "output_type": "execute_result",
          "data": {
            "text/plain": [
              "array([[ 0,  9],\n",
              "       [ 0, 93]])"
            ]
          },
          "metadata": {},
          "execution_count": 19
        }
      ]
    },
    {
      "cell_type": "code",
      "source": [
        "print(classification_report(y_test, pred_test))"
      ],
      "metadata": {
        "colab": {
          "base_uri": "https://localhost:8080/"
        },
        "id": "M4UoErYAHcLg",
        "outputId": "7845d319-a012-44b2-8d76-d920aa334aa2"
      },
      "execution_count": 20,
      "outputs": [
        {
          "output_type": "stream",
          "name": "stdout",
          "text": [
            "              precision    recall  f1-score   support\n",
            "\n",
            "           0       0.00      0.00      0.00         9\n",
            "           1       0.91      1.00      0.95        93\n",
            "\n",
            "    accuracy                           0.91       102\n",
            "   macro avg       0.46      0.50      0.48       102\n",
            "weighted avg       0.83      0.91      0.87       102\n",
            "\n"
          ]
        },
        {
          "output_type": "stream",
          "name": "stderr",
          "text": [
            "/usr/local/lib/python3.10/dist-packages/sklearn/metrics/_classification.py:1344: UndefinedMetricWarning: Precision and F-score are ill-defined and being set to 0.0 in labels with no predicted samples. Use `zero_division` parameter to control this behavior.\n",
            "  _warn_prf(average, modifier, msg_start, len(result))\n",
            "/usr/local/lib/python3.10/dist-packages/sklearn/metrics/_classification.py:1344: UndefinedMetricWarning: Precision and F-score are ill-defined and being set to 0.0 in labels with no predicted samples. Use `zero_division` parameter to control this behavior.\n",
            "  _warn_prf(average, modifier, msg_start, len(result))\n",
            "/usr/local/lib/python3.10/dist-packages/sklearn/metrics/_classification.py:1344: UndefinedMetricWarning: Precision and F-score are ill-defined and being set to 0.0 in labels with no predicted samples. Use `zero_division` parameter to control this behavior.\n",
            "  _warn_prf(average, modifier, msg_start, len(result))\n"
          ]
        }
      ]
    },
    {
      "cell_type": "code",
      "source": [
        "rmse = np.sum((y_test - pred_test)**2)"
      ],
      "metadata": {
        "id": "fNbye44aGWNy"
      },
      "execution_count": 21,
      "outputs": []
    },
    {
      "cell_type": "code",
      "source": [
        "rmse"
      ],
      "metadata": {
        "colab": {
          "base_uri": "https://localhost:8080/"
        },
        "id": "bfveyUKKGYpM",
        "outputId": "0abb00d1-5b97-405b-e308-a530fba03ab2"
      },
      "execution_count": 22,
      "outputs": [
        {
          "output_type": "execute_result",
          "data": {
            "text/plain": [
              "9"
            ]
          },
          "metadata": {},
          "execution_count": 22
        }
      ]
    },
    {
      "cell_type": "code",
      "source": [
        "# updating weight vector over 100 iterations with regularization rate as 0.0001 and learing rate as 0.01\n",
        "\n",
        "reg_rate = 0.0001\n",
        "lr = 0.01\n",
        "\n",
        "num_epochs = 100\n",
        "\n",
        "def weight_updates(x,y, num_epochs, lr, reg_rate):\n",
        "\n",
        "  # creating a weight vector of all zeros\n",
        "  w_vector = np.zeros(x.shape[1])\n",
        "\n",
        "\n",
        "  w_all = []\n",
        "  error_all = []\n",
        "\n",
        "  # from 0 to 100 epochs performing optimization, calculating the loss function and\n",
        "  # updating the vector based on the optimization and learning rate\n",
        "\n",
        "  for i in np.arange(0,num_epochs):\n",
        "\n",
        "    gd = optimization(x,y,w_vector,reg_rate)\n",
        "\n",
        "    w_all.append(w_vector)\n",
        "\n",
        "    error_all.append(loss(y,x,w_vector,reg_rate))\n",
        "\n",
        "\n",
        "    grad = optimization(x,y,w_vector,reg_rate)\n",
        "\n",
        "    w_vector = w_vector - lr*grad\n",
        "\n",
        "\n",
        "  return w_vector\n",
        "\n",
        "\n"
      ],
      "metadata": {
        "id": "0RmJbKzFcWQH"
      },
      "execution_count": 23,
      "outputs": []
    },
    {
      "cell_type": "code",
      "source": [
        "# getting the new weight vector\n",
        "\n",
        "w_new = weight_updates(X_train,y_train, num_epochs, lr, reg_rate)"
      ],
      "metadata": {
        "id": "BCJMkA9sg5lK",
        "colab": {
          "base_uri": "https://localhost:8080/"
        },
        "outputId": "ef2a499e-1786-4d44-a746-4f667e9780cf"
      },
      "execution_count": 24,
      "outputs": [
        {
          "output_type": "stream",
          "name": "stderr",
          "text": [
            "/usr/local/lib/python3.10/dist-packages/pandas/core/arraylike.py:402: RuntimeWarning: overflow encountered in exp\n",
            "  result = getattr(ufunc, method)(*inputs, **kwargs)\n",
            "/usr/local/lib/python3.10/dist-packages/pandas/core/arraylike.py:402: RuntimeWarning: divide by zero encountered in log\n",
            "  result = getattr(ufunc, method)(*inputs, **kwargs)\n"
          ]
        }
      ]
    },
    {
      "cell_type": "code",
      "source": [
        "w_new"
      ],
      "metadata": {
        "colab": {
          "base_uri": "https://localhost:8080/"
        },
        "id": "_y2WPF96lChm",
        "outputId": "effbb88a-6564-4a9b-8458-09cc05ddc416"
      },
      "execution_count": 25,
      "outputs": [
        {
          "output_type": "execute_result",
          "data": {
            "text/plain": [
              "index                   2.409765\n",
              "ENSG00000001617.12    117.268758\n",
              "ENSG00000002726.21   -422.621942\n",
              "ENSG00000006015.18    163.899247\n",
              "ENSG00000006327.14    464.845387\n",
              "                         ...    \n",
              "Stage IIIB              0.534949\n",
              "Stage IIIC              0.354966\n",
              "Stage IV                0.109989\n",
              "Stage IVA               0.034997\n",
              "Stage IVB               0.005000\n",
              "Length: 905, dtype: float64"
            ]
          },
          "metadata": {},
          "execution_count": 25
        }
      ]
    },
    {
      "cell_type": "code",
      "source": [
        "# predicting test scores based on the new weight vector\n",
        "\n",
        "pred_update = prediction(X_test,w_new,0.5)"
      ],
      "metadata": {
        "colab": {
          "base_uri": "https://localhost:8080/"
        },
        "id": "2Kv8CdaBlVRA",
        "outputId": "fa4daa7d-2d31-4be2-c4e0-fdb3b748a2bb"
      },
      "execution_count": 26,
      "outputs": [
        {
          "output_type": "stream",
          "name": "stderr",
          "text": [
            "/usr/local/lib/python3.10/dist-packages/pandas/core/arraylike.py:402: RuntimeWarning: overflow encountered in exp\n",
            "  result = getattr(ufunc, method)(*inputs, **kwargs)\n"
          ]
        }
      ]
    },
    {
      "cell_type": "code",
      "source": [
        "# calculating the evaluation metrics for the test data using the new weight vector\n",
        "\n",
        "rmse = np.sum(y_test - pred_update)**2"
      ],
      "metadata": {
        "id": "eAoqDikulgST"
      },
      "execution_count": 27,
      "outputs": []
    },
    {
      "cell_type": "code",
      "source": [
        "rmse"
      ],
      "metadata": {
        "colab": {
          "base_uri": "https://localhost:8080/"
        },
        "id": "0ZTrH2GBl0Me",
        "outputId": "21f67ba3-4236-4622-a367-15b5ffb0cc78"
      },
      "execution_count": 28,
      "outputs": [
        {
          "output_type": "execute_result",
          "data": {
            "text/plain": [
              "0"
            ]
          },
          "metadata": {},
          "execution_count": 28
        }
      ]
    },
    {
      "cell_type": "code",
      "source": [
        "confusion_matrix(y_test, pred_update)"
      ],
      "metadata": {
        "colab": {
          "base_uri": "https://localhost:8080/"
        },
        "id": "zHVPBinzafbQ",
        "outputId": "2f72f6f8-c3a5-40ff-d30d-08f793756f08"
      },
      "execution_count": 31,
      "outputs": [
        {
          "output_type": "execute_result",
          "data": {
            "text/plain": [
              "array([[ 9,  0],\n",
              "       [ 0, 93]])"
            ]
          },
          "metadata": {},
          "execution_count": 31
        }
      ]
    },
    {
      "cell_type": "code",
      "source": [
        "print(classification_report(y_test, pred_update))"
      ],
      "metadata": {
        "colab": {
          "base_uri": "https://localhost:8080/"
        },
        "id": "_EVixrVhah2p",
        "outputId": "aa3cfae6-4ee7-42c9-e2ed-776d5679d784"
      },
      "execution_count": 30,
      "outputs": [
        {
          "output_type": "stream",
          "name": "stdout",
          "text": [
            "              precision    recall  f1-score   support\n",
            "\n",
            "           0       1.00      1.00      1.00         9\n",
            "           1       1.00      1.00      1.00        93\n",
            "\n",
            "    accuracy                           1.00       102\n",
            "   macro avg       1.00      1.00      1.00       102\n",
            "weighted avg       1.00      1.00      1.00       102\n",
            "\n"
          ]
        }
      ]
    }
  ]
}